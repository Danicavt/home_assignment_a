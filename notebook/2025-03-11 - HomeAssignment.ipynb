{
 "cells": [
  {
   "cell_type": "markdown",
   "metadata": {
    "application/vnd.databricks.v1+cell": {
     "cellMetadata": {
      "byteLimit": 2048000,
      "rowLimit": 10000
     },
     "inputWidgets": {},
     "nuid": "96816ed7-b08a-4ca3-abb9-f99880c3535d",
     "showTitle": false,
     "tableResultSettingsMap": {},
     "title": ""
    }
   },
   "source": [
    "\n",
    "## TECH TEST"
   ]
  },
  {
   "cell_type": "code",
   "execution_count": 0,
   "metadata": {
    "application/vnd.databricks.v1+cell": {
     "cellMetadata": {
      "byteLimit": 2048000,
      "rowLimit": 10000
     },
     "inputWidgets": {},
     "nuid": "6482be4c-f067-47c9-b0ac-35c938b94601",
     "showTitle": false,
     "tableResultSettingsMap": {},
     "title": ""
    }
   },
   "outputs": [
    {
     "output_type": "display_data",
     "data": {
      "text/html": [
       "<style scoped>\n",
       "  .table-result-container {\n",
       "    max-height: 300px;\n",
       "    overflow: auto;\n",
       "  }\n",
       "  table, th, td {\n",
       "    border: 1px solid black;\n",
       "    border-collapse: collapse;\n",
       "  }\n",
       "  th, td {\n",
       "    padding: 5px;\n",
       "  }\n",
       "  th {\n",
       "    text-align: left;\n",
       "  }\n",
       "</style><div class='table-result-container'><table class='table-result'><thead style='background-color: white'><tr><th>transaction_id</th><th>date</th><th>category</th><th>product</th><th>quantity</th><th>price</th></tr></thead><tbody><tr><td>1</td><td>2024-07-01</td><td>Widget</td><td>Widget-A</td><td>10</td><td>9.99</td></tr><tr><td>2</td><td>2024-07-01</td><td>Gadget</td><td>Gadget-X</td><td>5</td><td>19.99</td></tr><tr><td>3</td><td>2024-07-02</td><td>Widget</td><td>Widget-B</td><td>7</td><td>9.99</td></tr><tr><td>4</td><td>2024-07-02</td><td>Doodad</td><td>Doodad-1</td><td>null</td><td>4.99</td></tr><tr><td>5</td><td>2024-07-03</td><td>Widget</td><td>Widget-C</td><td>3</td><td>9.99</td></tr><tr><td>6</td><td>2024-07-03</td><td>Gadget</td><td>Gadget-Y</td><td>8</td><td>19.99</td></tr><tr><td>7</td><td>2024-07-04</td><td>Widget</td><td>Widget-A</td><td>2</td><td>9.99</td></tr><tr><td>8</td><td>2024-07-04</td><td>Doodad</td><td>Doodad-2</td><td>4</td><td>not_a_number</td></tr><tr><td>9</td><td>2024-07-05</td><td>Widget</td><td>Widget-B</td><td>6</td><td>9.99</td></tr><tr><td>10</td><td>2024-07-05</td><td>Gadget</td><td>Gadget-X</td><td>3</td><td>19.99</td></tr><tr><td>11</td><td>2024-07-06</td><td>Gadget</td><td>null</td><td>5</td><td>19.99</td></tr><tr><td>12</td><td>2024-07-06</td><td>Doodad</td><td>Doodad-3</td><td>1</td><td>4.99</td></tr><tr><td>13</td><td>2024-07-07</td><td>Widget</td><td>Widget-C</td><td>8</td><td>9.99</td></tr><tr><td>14</td><td>2024-07-07</td><td>Gadget</td><td>Gadget-Y</td><td>4</td><td>19.99</td></tr><tr><td>15</td><td>2024-07-08</td><td>Widget</td><td>Widget-A</td><td>3</td><td>9.99</td></tr><tr><td>16</td><td>2024-07-08</td><td>Doodad</td><td>Doodad-1</td><td>2</td><td>4.99</td></tr><tr><td>17</td><td>2024-07-09</td><td>Gadget</td><td>Gadget-X</td><td>null</td><td>19.99</td></tr><tr><td>18</td><td>2024-07-09</td><td>Widget</td><td>Widget-B</td><td>5</td><td>9.99</td></tr><tr><td>19</td><td>2024-07-10</td><td>Doodad</td><td>Doodad-2</td><td>4</td><td>4.99</td></tr><tr><td>20</td><td>2024-07-10</td><td>Gadget</td><td>Gadget-Y</td><td>7</td><td>19.99</td></tr><tr><td>21</td><td>2024-07-11</td><td>Widget</td><td>Widget-C</td><td>6</td><td>9.99</td></tr><tr><td>22</td><td>2024-07-11</td><td>Doodad</td><td>Doodad-3</td><td>3</td><td>4.99</td></tr><tr><td>23</td><td>2024-07-12</td><td>Gadget</td><td>Gadget-X</td><td>9</td><td>19.99</td></tr><tr><td>24</td><td>2024-07-12</td><td>Widget</td><td>Widget-A</td><td>1</td><td>9.99</td></tr><tr><td>25</td><td>2024-07-13</td><td>Doodad</td><td>Doodad-1</td><td>2</td><td>4.99</td></tr><tr><td>26</td><td>2024-07-13</td><td>Gadget</td><td>Gadget-Y</td><td>5</td><td>19.99</td></tr><tr><td>27</td><td>2024-07-14</td><td>Widget</td><td>Widget-B</td><td>null</td><td>9.99</td></tr><tr><td>28</td><td>2024-07-14</td><td>Doodad</td><td>Doodad-2</td><td>4</td><td>4.99</td></tr><tr><td>29</td><td>2024-07-15</td><td>Gadget</td><td>Gadget-X</td><td>7</td><td>19.99</td></tr><tr><td>30</td><td>2024-07-15</td><td>Widget</td><td>Widget-C</td><td>3</td><td>9.99</td></tr><tr><td>31</td><td>2024-07-16</td><td>Doodad</td><td>Doodad-3</td><td>1</td><td>4.99</td></tr><tr><td>32</td><td>2024-07-16</td><td>Gadget</td><td>Gadget-Y</td><td>5</td><td>not_a_number</td></tr><tr><td>33</td><td>2024-07-17</td><td>Widget</td><td>Widget-A</td><td>8</td><td>9.99</td></tr><tr><td>34</td><td>2024-07-17</td><td>Doodad</td><td>Doodad-1</td><td>2</td><td>4.99</td></tr><tr><td>35</td><td>2024-07-18</td><td>Gadget</td><td>Gadget-X</td><td>6</td><td>19.99</td></tr><tr><td>36</td><td>2024-07-18</td><td>Widget</td><td>Widget-B</td><td>4</td><td>9.99</td></tr><tr><td>37</td><td>2024-07-19</td><td>Doodad</td><td>Doodad-2</td><td>3</td><td>4.99</td></tr><tr><td>38</td><td>2024-07-19</td><td>Gadget</td><td>Gadget-Y</td><td>2</td><td>19.99</td></tr><tr><td>39</td><td>2024-07-20</td><td>Widget</td><td>Widget-C</td><td>5</td><td>9.99</td></tr><tr><td>40</td><td>2024-07-20</td><td>Doodad</td><td>Doodad-3</td><td>null</td><td>4.99</td></tr><tr><td>41</td><td>2024-07-21</td><td>Gadget</td><td>Gadget-X</td><td>7</td><td>19.99</td></tr><tr><td>42</td><td>2024-07-21</td><td>Widget</td><td>Widget-A</td><td>3</td><td>9.99</td></tr><tr><td>43</td><td>2024-07-22</td><td>Doodad</td><td>Doodad-1</td><td>2</td><td>4.99</td></tr><tr><td>44</td><td>2024-07-22</td><td>Gadget</td><td>Gadget-Y</td><td>6</td><td>19.99</td></tr><tr><td>45</td><td>2024-07-23</td><td>Widget</td><td>Widget-B</td><td>7</td><td>9.99</td></tr><tr><td>46</td><td>2024-07-23</td><td>Doodad</td><td>Doodad-2</td><td>3</td><td>4.99</td></tr><tr><td>47</td><td>2024-07-24</td><td>Gadget</td><td>Gadget-X</td><td>null</td><td>19.99</td></tr><tr><td>48</td><td>2024-07-24</td><td>Widget</td><td>Widget-C</td><td>5</td><td>9.99</td></tr><tr><td>49</td><td>2024-07-25</td><td>Doodad</td><td>Doodad-3</td><td>4</td><td>4.99</td></tr><tr><td>50</td><td>2024-07-25</td><td>Gadget</td><td>Gadget-Y</td><td>8</td><td>19.99</td></tr></tbody></table></div>"
      ]
     },
     "metadata": {
      "application/vnd.databricks.v1+output": {
       "addedWidgets": {},
       "aggData": [],
       "aggError": "",
       "aggOverflow": false,
       "aggSchema": [],
       "aggSeriesLimitReached": false,
       "aggType": "",
       "arguments": {},
       "columnCustomDisplayInfos": {},
       "data": [
        [
         1,
         "2024-07-01",
         "Widget",
         "Widget-A",
         10,
         "9.99"
        ],
        [
         2,
         "2024-07-01",
         "Gadget",
         "Gadget-X",
         5,
         "19.99"
        ],
        [
         3,
         "2024-07-02",
         "Widget",
         "Widget-B",
         7,
         "9.99"
        ],
        [
         4,
         "2024-07-02",
         "Doodad",
         "Doodad-1",
         null,
         "4.99"
        ],
        [
         5,
         "2024-07-03",
         "Widget",
         "Widget-C",
         3,
         "9.99"
        ],
        [
         6,
         "2024-07-03",
         "Gadget",
         "Gadget-Y",
         8,
         "19.99"
        ],
        [
         7,
         "2024-07-04",
         "Widget",
         "Widget-A",
         2,
         "9.99"
        ],
        [
         8,
         "2024-07-04",
         "Doodad",
         "Doodad-2",
         4,
         "not_a_number"
        ],
        [
         9,
         "2024-07-05",
         "Widget",
         "Widget-B",
         6,
         "9.99"
        ],
        [
         10,
         "2024-07-05",
         "Gadget",
         "Gadget-X",
         3,
         "19.99"
        ],
        [
         11,
         "2024-07-06",
         "Gadget",
         null,
         5,
         "19.99"
        ],
        [
         12,
         "2024-07-06",
         "Doodad",
         "Doodad-3",
         1,
         "4.99"
        ],
        [
         13,
         "2024-07-07",
         "Widget",
         "Widget-C",
         8,
         "9.99"
        ],
        [
         14,
         "2024-07-07",
         "Gadget",
         "Gadget-Y",
         4,
         "19.99"
        ],
        [
         15,
         "2024-07-08",
         "Widget",
         "Widget-A",
         3,
         "9.99"
        ],
        [
         16,
         "2024-07-08",
         "Doodad",
         "Doodad-1",
         2,
         "4.99"
        ],
        [
         17,
         "2024-07-09",
         "Gadget",
         "Gadget-X",
         null,
         "19.99"
        ],
        [
         18,
         "2024-07-09",
         "Widget",
         "Widget-B",
         5,
         "9.99"
        ],
        [
         19,
         "2024-07-10",
         "Doodad",
         "Doodad-2",
         4,
         "4.99"
        ],
        [
         20,
         "2024-07-10",
         "Gadget",
         "Gadget-Y",
         7,
         "19.99"
        ],
        [
         21,
         "2024-07-11",
         "Widget",
         "Widget-C",
         6,
         "9.99"
        ],
        [
         22,
         "2024-07-11",
         "Doodad",
         "Doodad-3",
         3,
         "4.99"
        ],
        [
         23,
         "2024-07-12",
         "Gadget",
         "Gadget-X",
         9,
         "19.99"
        ],
        [
         24,
         "2024-07-12",
         "Widget",
         "Widget-A",
         1,
         "9.99"
        ],
        [
         25,
         "2024-07-13",
         "Doodad",
         "Doodad-1",
         2,
         "4.99"
        ],
        [
         26,
         "2024-07-13",
         "Gadget",
         "Gadget-Y",
         5,
         "19.99"
        ],
        [
         27,
         "2024-07-14",
         "Widget",
         "Widget-B",
         null,
         "9.99"
        ],
        [
         28,
         "2024-07-14",
         "Doodad",
         "Doodad-2",
         4,
         "4.99"
        ],
        [
         29,
         "2024-07-15",
         "Gadget",
         "Gadget-X",
         7,
         "19.99"
        ],
        [
         30,
         "2024-07-15",
         "Widget",
         "Widget-C",
         3,
         "9.99"
        ],
        [
         31,
         "2024-07-16",
         "Doodad",
         "Doodad-3",
         1,
         "4.99"
        ],
        [
         32,
         "2024-07-16",
         "Gadget",
         "Gadget-Y",
         5,
         "not_a_number"
        ],
        [
         33,
         "2024-07-17",
         "Widget",
         "Widget-A",
         8,
         "9.99"
        ],
        [
         34,
         "2024-07-17",
         "Doodad",
         "Doodad-1",
         2,
         "4.99"
        ],
        [
         35,
         "2024-07-18",
         "Gadget",
         "Gadget-X",
         6,
         "19.99"
        ],
        [
         36,
         "2024-07-18",
         "Widget",
         "Widget-B",
         4,
         "9.99"
        ],
        [
         37,
         "2024-07-19",
         "Doodad",
         "Doodad-2",
         3,
         "4.99"
        ],
        [
         38,
         "2024-07-19",
         "Gadget",
         "Gadget-Y",
         2,
         "19.99"
        ],
        [
         39,
         "2024-07-20",
         "Widget",
         "Widget-C",
         5,
         "9.99"
        ],
        [
         40,
         "2024-07-20",
         "Doodad",
         "Doodad-3",
         null,
         "4.99"
        ],
        [
         41,
         "2024-07-21",
         "Gadget",
         "Gadget-X",
         7,
         "19.99"
        ],
        [
         42,
         "2024-07-21",
         "Widget",
         "Widget-A",
         3,
         "9.99"
        ],
        [
         43,
         "2024-07-22",
         "Doodad",
         "Doodad-1",
         2,
         "4.99"
        ],
        [
         44,
         "2024-07-22",
         "Gadget",
         "Gadget-Y",
         6,
         "19.99"
        ],
        [
         45,
         "2024-07-23",
         "Widget",
         "Widget-B",
         7,
         "9.99"
        ],
        [
         46,
         "2024-07-23",
         "Doodad",
         "Doodad-2",
         3,
         "4.99"
        ],
        [
         47,
         "2024-07-24",
         "Gadget",
         "Gadget-X",
         null,
         "19.99"
        ],
        [
         48,
         "2024-07-24",
         "Widget",
         "Widget-C",
         5,
         "9.99"
        ],
        [
         49,
         "2024-07-25",
         "Doodad",
         "Doodad-3",
         4,
         "4.99"
        ],
        [
         50,
         "2024-07-25",
         "Gadget",
         "Gadget-Y",
         8,
         "19.99"
        ]
       ],
       "datasetInfos": [],
       "dbfsResultPath": null,
       "isJsonSchema": true,
       "metadata": {},
       "overflow": false,
       "plotOptions": {
        "customPlotOptions": {},
        "displayType": "table",
        "pivotAggregation": null,
        "pivotColumns": null,
        "xColumns": null,
        "yColumns": null
       },
       "removedWidgets": [],
       "schema": [
        {
         "metadata": "{}",
         "name": "transaction_id",
         "type": "\"integer\""
        },
        {
         "metadata": "{\"__detected_date_formats\":\"yyyy-M-d\"}",
         "name": "date",
         "type": "\"date\""
        },
        {
         "metadata": "{}",
         "name": "category",
         "type": "\"string\""
        },
        {
         "metadata": "{}",
         "name": "product",
         "type": "\"string\""
        },
        {
         "metadata": "{}",
         "name": "quantity",
         "type": "\"integer\""
        },
        {
         "metadata": "{}",
         "name": "price",
         "type": "\"string\""
        }
       ],
       "type": "table"
      }
     },
     "output_type": "display_data"
    }
   ],
   "source": [
    "# File location and type\n",
    "file_location = \"/FileStore/tables/sales.csv\"\n",
    "file_type = \"csv\"\n",
    "\n",
    "# CSV options\n",
    "infer_schema = \"true\"\n",
    "first_row_is_header = \"true\"\n",
    "delimiter = \",\"\n",
    "\n",
    "# The applied options are for CSV files. For other file types, these will be ignored.\n",
    "df = spark.read.format(file_type) \\\n",
    "  .option(\"inferSchema\", infer_schema) \\\n",
    "  .option(\"header\", first_row_is_header) \\\n",
    "  .option(\"sep\", delimiter) \\\n",
    "  .load(file_location)\n",
    "\n",
    "display(df)"
   ]
  },
  {
   "cell_type": "code",
   "execution_count": 0,
   "metadata": {
    "application/vnd.databricks.v1+cell": {
     "cellMetadata": {
      "byteLimit": 2048000,
      "rowLimit": 10000
     },
     "inputWidgets": {},
     "nuid": "cfdf2485-75c0-41b8-bb35-11e73ced1daf",
     "showTitle": false,
     "tableResultSettingsMap": {},
     "title": ""
    }
   },
   "outputs": [],
   "source": [
    "\n",
    "from pyspark.sql.functions import col, coalesce, date_format, when, row_number, mean, stddev, lit, abs\n",
    "from pyspark.sql.window import Window"
   ]
  },
  {
   "cell_type": "markdown",
   "metadata": {
    "application/vnd.databricks.v1+cell": {
     "cellMetadata": {
      "byteLimit": 2048000,
      "rowLimit": 10000
     },
     "inputWidgets": {},
     "nuid": "fe75f268-0336-4c9f-9b98-a71e52a8d7f4",
     "showTitle": false,
     "tableResultSettingsMap": {},
     "title": ""
    }
   },
   "source": [
    "## 1. DATA CLEANING"
   ]
  },
  {
   "cell_type": "markdown",
   "metadata": {
    "application/vnd.databricks.v1+cell": {
     "cellMetadata": {
      "byteLimit": 2048000,
      "rowLimit": 10000
     },
     "inputWidgets": {},
     "nuid": "1014dd5f-439d-40a5-a731-e451576c4f5f",
     "showTitle": false,
     "tableResultSettingsMap": {},
     "title": ""
    }
   },
   "source": [
    ">**Handle missing values:**"
   ]
  },
  {
   "cell_type": "code",
   "execution_count": 0,
   "metadata": {
    "application/vnd.databricks.v1+cell": {
     "cellMetadata": {
      "byteLimit": 2048000,
      "rowLimit": 10000
     },
     "inputWidgets": {},
     "nuid": "66b60a6a-ed57-4667-abf0-443a29aa62b6",
     "showTitle": false,
     "tableResultSettingsMap": {},
     "title": ""
    }
   },
   "outputs": [
    {
     "output_type": "stream",
     "name": "stdout",
     "output_type": "stream",
     "text": [
      "Replace missing quantity with 0\n"
     ]
    },
    {
     "output_type": "display_data",
     "data": {
      "text/html": [
       "<style scoped>\n",
       "  .table-result-container {\n",
       "    max-height: 300px;\n",
       "    overflow: auto;\n",
       "  }\n",
       "  table, th, td {\n",
       "    border: 1px solid black;\n",
       "    border-collapse: collapse;\n",
       "  }\n",
       "  th, td {\n",
       "    padding: 5px;\n",
       "  }\n",
       "  th {\n",
       "    text-align: left;\n",
       "  }\n",
       "</style><div class='table-result-container'><table class='table-result'><thead style='background-color: white'><tr><th>transaction_id</th><th>date</th><th>category</th><th>product</th><th>quantity</th><th>price</th></tr></thead><tbody><tr><td>1</td><td>2024-07-01</td><td>Widget</td><td>Widget-A</td><td>10</td><td>9.99</td></tr><tr><td>2</td><td>2024-07-01</td><td>Gadget</td><td>Gadget-X</td><td>5</td><td>19.99</td></tr><tr><td>3</td><td>2024-07-02</td><td>Widget</td><td>Widget-B</td><td>7</td><td>9.99</td></tr><tr><td>4</td><td>2024-07-02</td><td>Doodad</td><td>Doodad-1</td><td>0</td><td>4.99</td></tr><tr><td>5</td><td>2024-07-03</td><td>Widget</td><td>Widget-C</td><td>3</td><td>9.99</td></tr><tr><td>6</td><td>2024-07-03</td><td>Gadget</td><td>Gadget-Y</td><td>8</td><td>19.99</td></tr><tr><td>7</td><td>2024-07-04</td><td>Widget</td><td>Widget-A</td><td>2</td><td>9.99</td></tr><tr><td>8</td><td>2024-07-04</td><td>Doodad</td><td>Doodad-2</td><td>4</td><td>not_a_number</td></tr><tr><td>9</td><td>2024-07-05</td><td>Widget</td><td>Widget-B</td><td>6</td><td>9.99</td></tr><tr><td>10</td><td>2024-07-05</td><td>Gadget</td><td>Gadget-X</td><td>3</td><td>19.99</td></tr><tr><td>11</td><td>2024-07-06</td><td>Gadget</td><td>null</td><td>5</td><td>19.99</td></tr><tr><td>12</td><td>2024-07-06</td><td>Doodad</td><td>Doodad-3</td><td>1</td><td>4.99</td></tr><tr><td>13</td><td>2024-07-07</td><td>Widget</td><td>Widget-C</td><td>8</td><td>9.99</td></tr><tr><td>14</td><td>2024-07-07</td><td>Gadget</td><td>Gadget-Y</td><td>4</td><td>19.99</td></tr><tr><td>15</td><td>2024-07-08</td><td>Widget</td><td>Widget-A</td><td>3</td><td>9.99</td></tr><tr><td>16</td><td>2024-07-08</td><td>Doodad</td><td>Doodad-1</td><td>2</td><td>4.99</td></tr><tr><td>17</td><td>2024-07-09</td><td>Gadget</td><td>Gadget-X</td><td>0</td><td>19.99</td></tr><tr><td>18</td><td>2024-07-09</td><td>Widget</td><td>Widget-B</td><td>5</td><td>9.99</td></tr><tr><td>19</td><td>2024-07-10</td><td>Doodad</td><td>Doodad-2</td><td>4</td><td>4.99</td></tr><tr><td>20</td><td>2024-07-10</td><td>Gadget</td><td>Gadget-Y</td><td>7</td><td>19.99</td></tr><tr><td>21</td><td>2024-07-11</td><td>Widget</td><td>Widget-C</td><td>6</td><td>9.99</td></tr><tr><td>22</td><td>2024-07-11</td><td>Doodad</td><td>Doodad-3</td><td>3</td><td>4.99</td></tr><tr><td>23</td><td>2024-07-12</td><td>Gadget</td><td>Gadget-X</td><td>9</td><td>19.99</td></tr><tr><td>24</td><td>2024-07-12</td><td>Widget</td><td>Widget-A</td><td>1</td><td>9.99</td></tr><tr><td>25</td><td>2024-07-13</td><td>Doodad</td><td>Doodad-1</td><td>2</td><td>4.99</td></tr><tr><td>26</td><td>2024-07-13</td><td>Gadget</td><td>Gadget-Y</td><td>5</td><td>19.99</td></tr><tr><td>27</td><td>2024-07-14</td><td>Widget</td><td>Widget-B</td><td>0</td><td>9.99</td></tr><tr><td>28</td><td>2024-07-14</td><td>Doodad</td><td>Doodad-2</td><td>4</td><td>4.99</td></tr><tr><td>29</td><td>2024-07-15</td><td>Gadget</td><td>Gadget-X</td><td>7</td><td>19.99</td></tr><tr><td>30</td><td>2024-07-15</td><td>Widget</td><td>Widget-C</td><td>3</td><td>9.99</td></tr><tr><td>31</td><td>2024-07-16</td><td>Doodad</td><td>Doodad-3</td><td>1</td><td>4.99</td></tr><tr><td>32</td><td>2024-07-16</td><td>Gadget</td><td>Gadget-Y</td><td>5</td><td>not_a_number</td></tr><tr><td>33</td><td>2024-07-17</td><td>Widget</td><td>Widget-A</td><td>8</td><td>9.99</td></tr><tr><td>34</td><td>2024-07-17</td><td>Doodad</td><td>Doodad-1</td><td>2</td><td>4.99</td></tr><tr><td>35</td><td>2024-07-18</td><td>Gadget</td><td>Gadget-X</td><td>6</td><td>19.99</td></tr><tr><td>36</td><td>2024-07-18</td><td>Widget</td><td>Widget-B</td><td>4</td><td>9.99</td></tr><tr><td>37</td><td>2024-07-19</td><td>Doodad</td><td>Doodad-2</td><td>3</td><td>4.99</td></tr><tr><td>38</td><td>2024-07-19</td><td>Gadget</td><td>Gadget-Y</td><td>2</td><td>19.99</td></tr><tr><td>39</td><td>2024-07-20</td><td>Widget</td><td>Widget-C</td><td>5</td><td>9.99</td></tr><tr><td>40</td><td>2024-07-20</td><td>Doodad</td><td>Doodad-3</td><td>0</td><td>4.99</td></tr><tr><td>41</td><td>2024-07-21</td><td>Gadget</td><td>Gadget-X</td><td>7</td><td>19.99</td></tr><tr><td>42</td><td>2024-07-21</td><td>Widget</td><td>Widget-A</td><td>3</td><td>9.99</td></tr><tr><td>43</td><td>2024-07-22</td><td>Doodad</td><td>Doodad-1</td><td>2</td><td>4.99</td></tr><tr><td>44</td><td>2024-07-22</td><td>Gadget</td><td>Gadget-Y</td><td>6</td><td>19.99</td></tr><tr><td>45</td><td>2024-07-23</td><td>Widget</td><td>Widget-B</td><td>7</td><td>9.99</td></tr><tr><td>46</td><td>2024-07-23</td><td>Doodad</td><td>Doodad-2</td><td>3</td><td>4.99</td></tr><tr><td>47</td><td>2024-07-24</td><td>Gadget</td><td>Gadget-X</td><td>0</td><td>19.99</td></tr><tr><td>48</td><td>2024-07-24</td><td>Widget</td><td>Widget-C</td><td>5</td><td>9.99</td></tr><tr><td>49</td><td>2024-07-25</td><td>Doodad</td><td>Doodad-3</td><td>4</td><td>4.99</td></tr><tr><td>50</td><td>2024-07-25</td><td>Gadget</td><td>Gadget-Y</td><td>8</td><td>19.99</td></tr></tbody></table></div>"
      ]
     },
     "metadata": {
      "application/vnd.databricks.v1+output": {
       "addedWidgets": {},
       "aggData": [],
       "aggError": "",
       "aggOverflow": false,
       "aggSchema": [],
       "aggSeriesLimitReached": false,
       "aggType": "",
       "arguments": {},
       "columnCustomDisplayInfos": {},
       "data": [
        [
         1,
         "2024-07-01",
         "Widget",
         "Widget-A",
         10,
         "9.99"
        ],
        [
         2,
         "2024-07-01",
         "Gadget",
         "Gadget-X",
         5,
         "19.99"
        ],
        [
         3,
         "2024-07-02",
         "Widget",
         "Widget-B",
         7,
         "9.99"
        ],
        [
         4,
         "2024-07-02",
         "Doodad",
         "Doodad-1",
         0,
         "4.99"
        ],
        [
         5,
         "2024-07-03",
         "Widget",
         "Widget-C",
         3,
         "9.99"
        ],
        [
         6,
         "2024-07-03",
         "Gadget",
         "Gadget-Y",
         8,
         "19.99"
        ],
        [
         7,
         "2024-07-04",
         "Widget",
         "Widget-A",
         2,
         "9.99"
        ],
        [
         8,
         "2024-07-04",
         "Doodad",
         "Doodad-2",
         4,
         "not_a_number"
        ],
        [
         9,
         "2024-07-05",
         "Widget",
         "Widget-B",
         6,
         "9.99"
        ],
        [
         10,
         "2024-07-05",
         "Gadget",
         "Gadget-X",
         3,
         "19.99"
        ],
        [
         11,
         "2024-07-06",
         "Gadget",
         null,
         5,
         "19.99"
        ],
        [
         12,
         "2024-07-06",
         "Doodad",
         "Doodad-3",
         1,
         "4.99"
        ],
        [
         13,
         "2024-07-07",
         "Widget",
         "Widget-C",
         8,
         "9.99"
        ],
        [
         14,
         "2024-07-07",
         "Gadget",
         "Gadget-Y",
         4,
         "19.99"
        ],
        [
         15,
         "2024-07-08",
         "Widget",
         "Widget-A",
         3,
         "9.99"
        ],
        [
         16,
         "2024-07-08",
         "Doodad",
         "Doodad-1",
         2,
         "4.99"
        ],
        [
         17,
         "2024-07-09",
         "Gadget",
         "Gadget-X",
         0,
         "19.99"
        ],
        [
         18,
         "2024-07-09",
         "Widget",
         "Widget-B",
         5,
         "9.99"
        ],
        [
         19,
         "2024-07-10",
         "Doodad",
         "Doodad-2",
         4,
         "4.99"
        ],
        [
         20,
         "2024-07-10",
         "Gadget",
         "Gadget-Y",
         7,
         "19.99"
        ],
        [
         21,
         "2024-07-11",
         "Widget",
         "Widget-C",
         6,
         "9.99"
        ],
        [
         22,
         "2024-07-11",
         "Doodad",
         "Doodad-3",
         3,
         "4.99"
        ],
        [
         23,
         "2024-07-12",
         "Gadget",
         "Gadget-X",
         9,
         "19.99"
        ],
        [
         24,
         "2024-07-12",
         "Widget",
         "Widget-A",
         1,
         "9.99"
        ],
        [
         25,
         "2024-07-13",
         "Doodad",
         "Doodad-1",
         2,
         "4.99"
        ],
        [
         26,
         "2024-07-13",
         "Gadget",
         "Gadget-Y",
         5,
         "19.99"
        ],
        [
         27,
         "2024-07-14",
         "Widget",
         "Widget-B",
         0,
         "9.99"
        ],
        [
         28,
         "2024-07-14",
         "Doodad",
         "Doodad-2",
         4,
         "4.99"
        ],
        [
         29,
         "2024-07-15",
         "Gadget",
         "Gadget-X",
         7,
         "19.99"
        ],
        [
         30,
         "2024-07-15",
         "Widget",
         "Widget-C",
         3,
         "9.99"
        ],
        [
         31,
         "2024-07-16",
         "Doodad",
         "Doodad-3",
         1,
         "4.99"
        ],
        [
         32,
         "2024-07-16",
         "Gadget",
         "Gadget-Y",
         5,
         "not_a_number"
        ],
        [
         33,
         "2024-07-17",
         "Widget",
         "Widget-A",
         8,
         "9.99"
        ],
        [
         34,
         "2024-07-17",
         "Doodad",
         "Doodad-1",
         2,
         "4.99"
        ],
        [
         35,
         "2024-07-18",
         "Gadget",
         "Gadget-X",
         6,
         "19.99"
        ],
        [
         36,
         "2024-07-18",
         "Widget",
         "Widget-B",
         4,
         "9.99"
        ],
        [
         37,
         "2024-07-19",
         "Doodad",
         "Doodad-2",
         3,
         "4.99"
        ],
        [
         38,
         "2024-07-19",
         "Gadget",
         "Gadget-Y",
         2,
         "19.99"
        ],
        [
         39,
         "2024-07-20",
         "Widget",
         "Widget-C",
         5,
         "9.99"
        ],
        [
         40,
         "2024-07-20",
         "Doodad",
         "Doodad-3",
         0,
         "4.99"
        ],
        [
         41,
         "2024-07-21",
         "Gadget",
         "Gadget-X",
         7,
         "19.99"
        ],
        [
         42,
         "2024-07-21",
         "Widget",
         "Widget-A",
         3,
         "9.99"
        ],
        [
         43,
         "2024-07-22",
         "Doodad",
         "Doodad-1",
         2,
         "4.99"
        ],
        [
         44,
         "2024-07-22",
         "Gadget",
         "Gadget-Y",
         6,
         "19.99"
        ],
        [
         45,
         "2024-07-23",
         "Widget",
         "Widget-B",
         7,
         "9.99"
        ],
        [
         46,
         "2024-07-23",
         "Doodad",
         "Doodad-2",
         3,
         "4.99"
        ],
        [
         47,
         "2024-07-24",
         "Gadget",
         "Gadget-X",
         0,
         "19.99"
        ],
        [
         48,
         "2024-07-24",
         "Widget",
         "Widget-C",
         5,
         "9.99"
        ],
        [
         49,
         "2024-07-25",
         "Doodad",
         "Doodad-3",
         4,
         "4.99"
        ],
        [
         50,
         "2024-07-25",
         "Gadget",
         "Gadget-Y",
         8,
         "19.99"
        ]
       ],
       "datasetInfos": [],
       "dbfsResultPath": null,
       "isJsonSchema": true,
       "metadata": {},
       "overflow": false,
       "plotOptions": {
        "customPlotOptions": {},
        "displayType": "table",
        "pivotAggregation": null,
        "pivotColumns": null,
        "xColumns": null,
        "yColumns": null
       },
       "removedWidgets": [],
       "schema": [
        {
         "metadata": "{}",
         "name": "transaction_id",
         "type": "\"integer\""
        },
        {
         "metadata": "{\"__detected_date_formats\":\"yyyy-M-d\"}",
         "name": "date",
         "type": "\"date\""
        },
        {
         "metadata": "{}",
         "name": "category",
         "type": "\"string\""
        },
        {
         "metadata": "{}",
         "name": "product",
         "type": "\"string\""
        },
        {
         "metadata": "{}",
         "name": "quantity",
         "type": "\"integer\""
        },
        {
         "metadata": "{}",
         "name": "price",
         "type": "\"string\""
        }
       ],
       "type": "table"
      }
     },
     "output_type": "display_data"
    },
    {
     "output_type": "stream",
     "name": "stdout",
     "output_type": "stream",
     "text": [
      "Replace missing or invalid price values (not_a_number) with the median price for the same product category\n"
     ]
    },
    {
     "output_type": "display_data",
     "data": {
      "text/html": [
       "<style scoped>\n",
       "  .table-result-container {\n",
       "    max-height: 300px;\n",
       "    overflow: auto;\n",
       "  }\n",
       "  table, th, td {\n",
       "    border: 1px solid black;\n",
       "    border-collapse: collapse;\n",
       "  }\n",
       "  th, td {\n",
       "    padding: 5px;\n",
       "  }\n",
       "  th {\n",
       "    text-align: left;\n",
       "  }\n",
       "</style><div class='table-result-container'><table class='table-result'><thead style='background-color: white'><tr><th>transaction_id</th><th>date</th><th>category</th><th>product</th><th>quantity</th><th>price</th></tr></thead><tbody><tr><td>1</td><td>2024-07-01</td><td>Widget</td><td>Widget-A</td><td>10</td><td>9.99</td></tr><tr><td>2</td><td>2024-07-01</td><td>Gadget</td><td>Gadget-X</td><td>5</td><td>19.99</td></tr><tr><td>3</td><td>2024-07-02</td><td>Widget</td><td>Widget-B</td><td>7</td><td>9.99</td></tr><tr><td>4</td><td>2024-07-02</td><td>Doodad</td><td>Doodad-1</td><td>0</td><td>4.99</td></tr><tr><td>5</td><td>2024-07-03</td><td>Widget</td><td>Widget-C</td><td>3</td><td>9.99</td></tr><tr><td>6</td><td>2024-07-03</td><td>Gadget</td><td>Gadget-Y</td><td>8</td><td>19.99</td></tr><tr><td>7</td><td>2024-07-04</td><td>Widget</td><td>Widget-A</td><td>2</td><td>9.99</td></tr><tr><td>8</td><td>2024-07-04</td><td>Doodad</td><td>Doodad-2</td><td>4</td><td>4.99</td></tr><tr><td>9</td><td>2024-07-05</td><td>Widget</td><td>Widget-B</td><td>6</td><td>9.99</td></tr><tr><td>10</td><td>2024-07-05</td><td>Gadget</td><td>Gadget-X</td><td>3</td><td>19.99</td></tr><tr><td>11</td><td>2024-07-06</td><td>Gadget</td><td>null</td><td>5</td><td>19.99</td></tr><tr><td>12</td><td>2024-07-06</td><td>Doodad</td><td>Doodad-3</td><td>1</td><td>4.99</td></tr><tr><td>13</td><td>2024-07-07</td><td>Widget</td><td>Widget-C</td><td>8</td><td>9.99</td></tr><tr><td>14</td><td>2024-07-07</td><td>Gadget</td><td>Gadget-Y</td><td>4</td><td>19.99</td></tr><tr><td>15</td><td>2024-07-08</td><td>Widget</td><td>Widget-A</td><td>3</td><td>9.99</td></tr><tr><td>16</td><td>2024-07-08</td><td>Doodad</td><td>Doodad-1</td><td>2</td><td>4.99</td></tr><tr><td>17</td><td>2024-07-09</td><td>Gadget</td><td>Gadget-X</td><td>0</td><td>19.99</td></tr><tr><td>18</td><td>2024-07-09</td><td>Widget</td><td>Widget-B</td><td>5</td><td>9.99</td></tr><tr><td>19</td><td>2024-07-10</td><td>Doodad</td><td>Doodad-2</td><td>4</td><td>4.99</td></tr><tr><td>20</td><td>2024-07-10</td><td>Gadget</td><td>Gadget-Y</td><td>7</td><td>19.99</td></tr><tr><td>21</td><td>2024-07-11</td><td>Widget</td><td>Widget-C</td><td>6</td><td>9.99</td></tr><tr><td>22</td><td>2024-07-11</td><td>Doodad</td><td>Doodad-3</td><td>3</td><td>4.99</td></tr><tr><td>23</td><td>2024-07-12</td><td>Gadget</td><td>Gadget-X</td><td>9</td><td>19.99</td></tr><tr><td>24</td><td>2024-07-12</td><td>Widget</td><td>Widget-A</td><td>1</td><td>9.99</td></tr><tr><td>25</td><td>2024-07-13</td><td>Doodad</td><td>Doodad-1</td><td>2</td><td>4.99</td></tr><tr><td>26</td><td>2024-07-13</td><td>Gadget</td><td>Gadget-Y</td><td>5</td><td>19.99</td></tr><tr><td>27</td><td>2024-07-14</td><td>Widget</td><td>Widget-B</td><td>0</td><td>9.99</td></tr><tr><td>28</td><td>2024-07-14</td><td>Doodad</td><td>Doodad-2</td><td>4</td><td>4.99</td></tr><tr><td>29</td><td>2024-07-15</td><td>Gadget</td><td>Gadget-X</td><td>7</td><td>19.99</td></tr><tr><td>30</td><td>2024-07-15</td><td>Widget</td><td>Widget-C</td><td>3</td><td>9.99</td></tr><tr><td>31</td><td>2024-07-16</td><td>Doodad</td><td>Doodad-3</td><td>1</td><td>4.99</td></tr><tr><td>32</td><td>2024-07-16</td><td>Gadget</td><td>Gadget-Y</td><td>5</td><td>19.99</td></tr><tr><td>33</td><td>2024-07-17</td><td>Widget</td><td>Widget-A</td><td>8</td><td>9.99</td></tr><tr><td>34</td><td>2024-07-17</td><td>Doodad</td><td>Doodad-1</td><td>2</td><td>4.99</td></tr><tr><td>35</td><td>2024-07-18</td><td>Gadget</td><td>Gadget-X</td><td>6</td><td>19.99</td></tr><tr><td>36</td><td>2024-07-18</td><td>Widget</td><td>Widget-B</td><td>4</td><td>9.99</td></tr><tr><td>37</td><td>2024-07-19</td><td>Doodad</td><td>Doodad-2</td><td>3</td><td>4.99</td></tr><tr><td>38</td><td>2024-07-19</td><td>Gadget</td><td>Gadget-Y</td><td>2</td><td>19.99</td></tr><tr><td>39</td><td>2024-07-20</td><td>Widget</td><td>Widget-C</td><td>5</td><td>9.99</td></tr><tr><td>40</td><td>2024-07-20</td><td>Doodad</td><td>Doodad-3</td><td>0</td><td>4.99</td></tr><tr><td>41</td><td>2024-07-21</td><td>Gadget</td><td>Gadget-X</td><td>7</td><td>19.99</td></tr><tr><td>42</td><td>2024-07-21</td><td>Widget</td><td>Widget-A</td><td>3</td><td>9.99</td></tr><tr><td>43</td><td>2024-07-22</td><td>Doodad</td><td>Doodad-1</td><td>2</td><td>4.99</td></tr><tr><td>44</td><td>2024-07-22</td><td>Gadget</td><td>Gadget-Y</td><td>6</td><td>19.99</td></tr><tr><td>45</td><td>2024-07-23</td><td>Widget</td><td>Widget-B</td><td>7</td><td>9.99</td></tr><tr><td>46</td><td>2024-07-23</td><td>Doodad</td><td>Doodad-2</td><td>3</td><td>4.99</td></tr><tr><td>47</td><td>2024-07-24</td><td>Gadget</td><td>Gadget-X</td><td>0</td><td>19.99</td></tr><tr><td>48</td><td>2024-07-24</td><td>Widget</td><td>Widget-C</td><td>5</td><td>9.99</td></tr><tr><td>49</td><td>2024-07-25</td><td>Doodad</td><td>Doodad-3</td><td>4</td><td>4.99</td></tr><tr><td>50</td><td>2024-07-25</td><td>Gadget</td><td>Gadget-Y</td><td>8</td><td>19.99</td></tr></tbody></table></div>"
      ]
     },
     "metadata": {
      "application/vnd.databricks.v1+output": {
       "addedWidgets": {},
       "aggData": [],
       "aggError": "",
       "aggOverflow": false,
       "aggSchema": [],
       "aggSeriesLimitReached": false,
       "aggType": "",
       "arguments": {},
       "columnCustomDisplayInfos": {},
       "data": [
        [
         1,
         "2024-07-01",
         "Widget",
         "Widget-A",
         10,
         "9.99"
        ],
        [
         2,
         "2024-07-01",
         "Gadget",
         "Gadget-X",
         5,
         "19.99"
        ],
        [
         3,
         "2024-07-02",
         "Widget",
         "Widget-B",
         7,
         "9.99"
        ],
        [
         4,
         "2024-07-02",
         "Doodad",
         "Doodad-1",
         0,
         "4.99"
        ],
        [
         5,
         "2024-07-03",
         "Widget",
         "Widget-C",
         3,
         "9.99"
        ],
        [
         6,
         "2024-07-03",
         "Gadget",
         "Gadget-Y",
         8,
         "19.99"
        ],
        [
         7,
         "2024-07-04",
         "Widget",
         "Widget-A",
         2,
         "9.99"
        ],
        [
         8,
         "2024-07-04",
         "Doodad",
         "Doodad-2",
         4,
         "4.99"
        ],
        [
         9,
         "2024-07-05",
         "Widget",
         "Widget-B",
         6,
         "9.99"
        ],
        [
         10,
         "2024-07-05",
         "Gadget",
         "Gadget-X",
         3,
         "19.99"
        ],
        [
         11,
         "2024-07-06",
         "Gadget",
         null,
         5,
         "19.99"
        ],
        [
         12,
         "2024-07-06",
         "Doodad",
         "Doodad-3",
         1,
         "4.99"
        ],
        [
         13,
         "2024-07-07",
         "Widget",
         "Widget-C",
         8,
         "9.99"
        ],
        [
         14,
         "2024-07-07",
         "Gadget",
         "Gadget-Y",
         4,
         "19.99"
        ],
        [
         15,
         "2024-07-08",
         "Widget",
         "Widget-A",
         3,
         "9.99"
        ],
        [
         16,
         "2024-07-08",
         "Doodad",
         "Doodad-1",
         2,
         "4.99"
        ],
        [
         17,
         "2024-07-09",
         "Gadget",
         "Gadget-X",
         0,
         "19.99"
        ],
        [
         18,
         "2024-07-09",
         "Widget",
         "Widget-B",
         5,
         "9.99"
        ],
        [
         19,
         "2024-07-10",
         "Doodad",
         "Doodad-2",
         4,
         "4.99"
        ],
        [
         20,
         "2024-07-10",
         "Gadget",
         "Gadget-Y",
         7,
         "19.99"
        ],
        [
         21,
         "2024-07-11",
         "Widget",
         "Widget-C",
         6,
         "9.99"
        ],
        [
         22,
         "2024-07-11",
         "Doodad",
         "Doodad-3",
         3,
         "4.99"
        ],
        [
         23,
         "2024-07-12",
         "Gadget",
         "Gadget-X",
         9,
         "19.99"
        ],
        [
         24,
         "2024-07-12",
         "Widget",
         "Widget-A",
         1,
         "9.99"
        ],
        [
         25,
         "2024-07-13",
         "Doodad",
         "Doodad-1",
         2,
         "4.99"
        ],
        [
         26,
         "2024-07-13",
         "Gadget",
         "Gadget-Y",
         5,
         "19.99"
        ],
        [
         27,
         "2024-07-14",
         "Widget",
         "Widget-B",
         0,
         "9.99"
        ],
        [
         28,
         "2024-07-14",
         "Doodad",
         "Doodad-2",
         4,
         "4.99"
        ],
        [
         29,
         "2024-07-15",
         "Gadget",
         "Gadget-X",
         7,
         "19.99"
        ],
        [
         30,
         "2024-07-15",
         "Widget",
         "Widget-C",
         3,
         "9.99"
        ],
        [
         31,
         "2024-07-16",
         "Doodad",
         "Doodad-3",
         1,
         "4.99"
        ],
        [
         32,
         "2024-07-16",
         "Gadget",
         "Gadget-Y",
         5,
         "19.99"
        ],
        [
         33,
         "2024-07-17",
         "Widget",
         "Widget-A",
         8,
         "9.99"
        ],
        [
         34,
         "2024-07-17",
         "Doodad",
         "Doodad-1",
         2,
         "4.99"
        ],
        [
         35,
         "2024-07-18",
         "Gadget",
         "Gadget-X",
         6,
         "19.99"
        ],
        [
         36,
         "2024-07-18",
         "Widget",
         "Widget-B",
         4,
         "9.99"
        ],
        [
         37,
         "2024-07-19",
         "Doodad",
         "Doodad-2",
         3,
         "4.99"
        ],
        [
         38,
         "2024-07-19",
         "Gadget",
         "Gadget-Y",
         2,
         "19.99"
        ],
        [
         39,
         "2024-07-20",
         "Widget",
         "Widget-C",
         5,
         "9.99"
        ],
        [
         40,
         "2024-07-20",
         "Doodad",
         "Doodad-3",
         0,
         "4.99"
        ],
        [
         41,
         "2024-07-21",
         "Gadget",
         "Gadget-X",
         7,
         "19.99"
        ],
        [
         42,
         "2024-07-21",
         "Widget",
         "Widget-A",
         3,
         "9.99"
        ],
        [
         43,
         "2024-07-22",
         "Doodad",
         "Doodad-1",
         2,
         "4.99"
        ],
        [
         44,
         "2024-07-22",
         "Gadget",
         "Gadget-Y",
         6,
         "19.99"
        ],
        [
         45,
         "2024-07-23",
         "Widget",
         "Widget-B",
         7,
         "9.99"
        ],
        [
         46,
         "2024-07-23",
         "Doodad",
         "Doodad-2",
         3,
         "4.99"
        ],
        [
         47,
         "2024-07-24",
         "Gadget",
         "Gadget-X",
         0,
         "19.99"
        ],
        [
         48,
         "2024-07-24",
         "Widget",
         "Widget-C",
         5,
         "9.99"
        ],
        [
         49,
         "2024-07-25",
         "Doodad",
         "Doodad-3",
         4,
         "4.99"
        ],
        [
         50,
         "2024-07-25",
         "Gadget",
         "Gadget-Y",
         8,
         "19.99"
        ]
       ],
       "datasetInfos": [],
       "dbfsResultPath": null,
       "isJsonSchema": true,
       "metadata": {},
       "overflow": false,
       "plotOptions": {
        "customPlotOptions": {},
        "displayType": "table",
        "pivotAggregation": null,
        "pivotColumns": null,
        "xColumns": null,
        "yColumns": null
       },
       "removedWidgets": [],
       "schema": [
        {
         "metadata": "{}",
         "name": "transaction_id",
         "type": "\"integer\""
        },
        {
         "metadata": "{\"__detected_date_formats\":\"yyyy-M-d\"}",
         "name": "date",
         "type": "\"date\""
        },
        {
         "metadata": "{}",
         "name": "category",
         "type": "\"string\""
        },
        {
         "metadata": "{}",
         "name": "product",
         "type": "\"string\""
        },
        {
         "metadata": "{}",
         "name": "quantity",
         "type": "\"integer\""
        },
        {
         "metadata": "{}",
         "name": "price",
         "type": "\"string\""
        }
       ],
       "type": "table"
      }
     },
     "output_type": "display_data"
    }
   ],
   "source": [
    "\n",
    "\n",
    "# Replace missing quantity with 0\n",
    "df_1 = df.fillna({\"quantity\":0}) \n",
    "print(\"Replace missing quantity with 0\")\n",
    "display(df_1)\n",
    "\n",
    "# Replace missing or invalid price values (not_a_number) with the median price for the same product category\n",
    "df_tmp = df_1.replace([\"not_a_number\"], [None], \"price\")\n",
    "\n",
    "median_price = df_tmp.groupBy(\"category\").agg({\"price\": \"median\"}).withColumnRenamed(\"median(price)\", \"median_price\").withColumnRenamed(\"category\", \"category_b\")\n",
    "\n",
    "df_joined = df_tmp.join(median_price, \n",
    "                    ((df_tmp[\"category\"] == median_price[\"category_b\"]) & df_tmp.price.isNull()), \n",
    "                    how=\"left\")                 \n",
    "                    \n",
    "df_2 = df_joined.select(df_joined[\"transaction_id\"],  \n",
    "                    df_joined[\"date\"],\n",
    "                    df_joined[\"category\"],\n",
    "                    df_joined[\"product\"],\n",
    "                    df_joined[\"quantity\"],\n",
    "                    coalesce(df_joined[\"price\"], df_joined[\"median_price\"]).alias(\"price\") \n",
    ")\n",
    "print(\"Replace missing or invalid price values (not_a_number) with the median price for the same product category\")\n",
    "display(df_2)"
   ]
  },
  {
   "cell_type": "markdown",
   "metadata": {
    "application/vnd.databricks.v1+cell": {
     "cellMetadata": {
      "byteLimit": 2048000,
      "rowLimit": 10000
     },
     "inputWidgets": {},
     "nuid": "a2d9c9b6-60e9-4437-9fb8-829bd1a2e358",
     "showTitle": false,
     "tableResultSettingsMap": {},
     "title": ""
    }
   },
   "source": [
    "> **Drop rows where both quantity and price are invalid or missing**"
   ]
  },
  {
   "cell_type": "code",
   "execution_count": 0,
   "metadata": {
    "application/vnd.databricks.v1+cell": {
     "cellMetadata": {
      "byteLimit": 2048000,
      "rowLimit": 10000
     },
     "inputWidgets": {},
     "nuid": "f5f8eed1-773b-4f4e-b252-e34d5f3be6e4",
     "showTitle": false,
     "tableResultSettingsMap": {},
     "title": ""
    }
   },
   "outputs": [
    {
     "output_type": "display_data",
     "data": {
      "text/html": [
       "<style scoped>\n",
       "  .table-result-container {\n",
       "    max-height: 300px;\n",
       "    overflow: auto;\n",
       "  }\n",
       "  table, th, td {\n",
       "    border: 1px solid black;\n",
       "    border-collapse: collapse;\n",
       "  }\n",
       "  th, td {\n",
       "    padding: 5px;\n",
       "  }\n",
       "  th {\n",
       "    text-align: left;\n",
       "  }\n",
       "</style><div class='table-result-container'><table class='table-result'><thead style='background-color: white'><tr><th>transaction_id</th><th>date</th><th>category</th><th>product</th><th>quantity</th><th>price</th></tr></thead><tbody><tr><td>1</td><td>2024-07-01</td><td>Widget</td><td>Widget-A</td><td>10</td><td>9.99</td></tr><tr><td>2</td><td>2024-07-01</td><td>Gadget</td><td>Gadget-X</td><td>5</td><td>19.99</td></tr><tr><td>3</td><td>2024-07-02</td><td>Widget</td><td>Widget-B</td><td>7</td><td>9.99</td></tr><tr><td>5</td><td>2024-07-03</td><td>Widget</td><td>Widget-C</td><td>3</td><td>9.99</td></tr><tr><td>6</td><td>2024-07-03</td><td>Gadget</td><td>Gadget-Y</td><td>8</td><td>19.99</td></tr><tr><td>7</td><td>2024-07-04</td><td>Widget</td><td>Widget-A</td><td>2</td><td>9.99</td></tr><tr><td>9</td><td>2024-07-05</td><td>Widget</td><td>Widget-B</td><td>6</td><td>9.99</td></tr><tr><td>10</td><td>2024-07-05</td><td>Gadget</td><td>Gadget-X</td><td>3</td><td>19.99</td></tr><tr><td>11</td><td>2024-07-06</td><td>Gadget</td><td>null</td><td>5</td><td>19.99</td></tr><tr><td>12</td><td>2024-07-06</td><td>Doodad</td><td>Doodad-3</td><td>1</td><td>4.99</td></tr><tr><td>13</td><td>2024-07-07</td><td>Widget</td><td>Widget-C</td><td>8</td><td>9.99</td></tr><tr><td>14</td><td>2024-07-07</td><td>Gadget</td><td>Gadget-Y</td><td>4</td><td>19.99</td></tr><tr><td>15</td><td>2024-07-08</td><td>Widget</td><td>Widget-A</td><td>3</td><td>9.99</td></tr><tr><td>16</td><td>2024-07-08</td><td>Doodad</td><td>Doodad-1</td><td>2</td><td>4.99</td></tr><tr><td>18</td><td>2024-07-09</td><td>Widget</td><td>Widget-B</td><td>5</td><td>9.99</td></tr><tr><td>19</td><td>2024-07-10</td><td>Doodad</td><td>Doodad-2</td><td>4</td><td>4.99</td></tr><tr><td>20</td><td>2024-07-10</td><td>Gadget</td><td>Gadget-Y</td><td>7</td><td>19.99</td></tr><tr><td>21</td><td>2024-07-11</td><td>Widget</td><td>Widget-C</td><td>6</td><td>9.99</td></tr><tr><td>22</td><td>2024-07-11</td><td>Doodad</td><td>Doodad-3</td><td>3</td><td>4.99</td></tr><tr><td>23</td><td>2024-07-12</td><td>Gadget</td><td>Gadget-X</td><td>9</td><td>19.99</td></tr><tr><td>24</td><td>2024-07-12</td><td>Widget</td><td>Widget-A</td><td>1</td><td>9.99</td></tr><tr><td>25</td><td>2024-07-13</td><td>Doodad</td><td>Doodad-1</td><td>2</td><td>4.99</td></tr><tr><td>26</td><td>2024-07-13</td><td>Gadget</td><td>Gadget-Y</td><td>5</td><td>19.99</td></tr><tr><td>28</td><td>2024-07-14</td><td>Doodad</td><td>Doodad-2</td><td>4</td><td>4.99</td></tr><tr><td>29</td><td>2024-07-15</td><td>Gadget</td><td>Gadget-X</td><td>7</td><td>19.99</td></tr><tr><td>30</td><td>2024-07-15</td><td>Widget</td><td>Widget-C</td><td>3</td><td>9.99</td></tr><tr><td>31</td><td>2024-07-16</td><td>Doodad</td><td>Doodad-3</td><td>1</td><td>4.99</td></tr><tr><td>33</td><td>2024-07-17</td><td>Widget</td><td>Widget-A</td><td>8</td><td>9.99</td></tr><tr><td>34</td><td>2024-07-17</td><td>Doodad</td><td>Doodad-1</td><td>2</td><td>4.99</td></tr><tr><td>35</td><td>2024-07-18</td><td>Gadget</td><td>Gadget-X</td><td>6</td><td>19.99</td></tr><tr><td>36</td><td>2024-07-18</td><td>Widget</td><td>Widget-B</td><td>4</td><td>9.99</td></tr><tr><td>37</td><td>2024-07-19</td><td>Doodad</td><td>Doodad-2</td><td>3</td><td>4.99</td></tr><tr><td>38</td><td>2024-07-19</td><td>Gadget</td><td>Gadget-Y</td><td>2</td><td>19.99</td></tr><tr><td>39</td><td>2024-07-20</td><td>Widget</td><td>Widget-C</td><td>5</td><td>9.99</td></tr><tr><td>41</td><td>2024-07-21</td><td>Gadget</td><td>Gadget-X</td><td>7</td><td>19.99</td></tr><tr><td>42</td><td>2024-07-21</td><td>Widget</td><td>Widget-A</td><td>3</td><td>9.99</td></tr><tr><td>43</td><td>2024-07-22</td><td>Doodad</td><td>Doodad-1</td><td>2</td><td>4.99</td></tr><tr><td>44</td><td>2024-07-22</td><td>Gadget</td><td>Gadget-Y</td><td>6</td><td>19.99</td></tr><tr><td>45</td><td>2024-07-23</td><td>Widget</td><td>Widget-B</td><td>7</td><td>9.99</td></tr><tr><td>46</td><td>2024-07-23</td><td>Doodad</td><td>Doodad-2</td><td>3</td><td>4.99</td></tr><tr><td>48</td><td>2024-07-24</td><td>Widget</td><td>Widget-C</td><td>5</td><td>9.99</td></tr><tr><td>49</td><td>2024-07-25</td><td>Doodad</td><td>Doodad-3</td><td>4</td><td>4.99</td></tr><tr><td>50</td><td>2024-07-25</td><td>Gadget</td><td>Gadget-Y</td><td>8</td><td>19.99</td></tr></tbody></table></div>"
      ]
     },
     "metadata": {
      "application/vnd.databricks.v1+output": {
       "addedWidgets": {},
       "aggData": [],
       "aggError": "",
       "aggOverflow": false,
       "aggSchema": [],
       "aggSeriesLimitReached": false,
       "aggType": "",
       "arguments": {},
       "columnCustomDisplayInfos": {},
       "data": [
        [
         1,
         "2024-07-01",
         "Widget",
         "Widget-A",
         10,
         9.99
        ],
        [
         2,
         "2024-07-01",
         "Gadget",
         "Gadget-X",
         5,
         19.99
        ],
        [
         3,
         "2024-07-02",
         "Widget",
         "Widget-B",
         7,
         9.99
        ],
        [
         5,
         "2024-07-03",
         "Widget",
         "Widget-C",
         3,
         9.99
        ],
        [
         6,
         "2024-07-03",
         "Gadget",
         "Gadget-Y",
         8,
         19.99
        ],
        [
         7,
         "2024-07-04",
         "Widget",
         "Widget-A",
         2,
         9.99
        ],
        [
         9,
         "2024-07-05",
         "Widget",
         "Widget-B",
         6,
         9.99
        ],
        [
         10,
         "2024-07-05",
         "Gadget",
         "Gadget-X",
         3,
         19.99
        ],
        [
         11,
         "2024-07-06",
         "Gadget",
         null,
         5,
         19.99
        ],
        [
         12,
         "2024-07-06",
         "Doodad",
         "Doodad-3",
         1,
         4.99
        ],
        [
         13,
         "2024-07-07",
         "Widget",
         "Widget-C",
         8,
         9.99
        ],
        [
         14,
         "2024-07-07",
         "Gadget",
         "Gadget-Y",
         4,
         19.99
        ],
        [
         15,
         "2024-07-08",
         "Widget",
         "Widget-A",
         3,
         9.99
        ],
        [
         16,
         "2024-07-08",
         "Doodad",
         "Doodad-1",
         2,
         4.99
        ],
        [
         18,
         "2024-07-09",
         "Widget",
         "Widget-B",
         5,
         9.99
        ],
        [
         19,
         "2024-07-10",
         "Doodad",
         "Doodad-2",
         4,
         4.99
        ],
        [
         20,
         "2024-07-10",
         "Gadget",
         "Gadget-Y",
         7,
         19.99
        ],
        [
         21,
         "2024-07-11",
         "Widget",
         "Widget-C",
         6,
         9.99
        ],
        [
         22,
         "2024-07-11",
         "Doodad",
         "Doodad-3",
         3,
         4.99
        ],
        [
         23,
         "2024-07-12",
         "Gadget",
         "Gadget-X",
         9,
         19.99
        ],
        [
         24,
         "2024-07-12",
         "Widget",
         "Widget-A",
         1,
         9.99
        ],
        [
         25,
         "2024-07-13",
         "Doodad",
         "Doodad-1",
         2,
         4.99
        ],
        [
         26,
         "2024-07-13",
         "Gadget",
         "Gadget-Y",
         5,
         19.99
        ],
        [
         28,
         "2024-07-14",
         "Doodad",
         "Doodad-2",
         4,
         4.99
        ],
        [
         29,
         "2024-07-15",
         "Gadget",
         "Gadget-X",
         7,
         19.99
        ],
        [
         30,
         "2024-07-15",
         "Widget",
         "Widget-C",
         3,
         9.99
        ],
        [
         31,
         "2024-07-16",
         "Doodad",
         "Doodad-3",
         1,
         4.99
        ],
        [
         33,
         "2024-07-17",
         "Widget",
         "Widget-A",
         8,
         9.99
        ],
        [
         34,
         "2024-07-17",
         "Doodad",
         "Doodad-1",
         2,
         4.99
        ],
        [
         35,
         "2024-07-18",
         "Gadget",
         "Gadget-X",
         6,
         19.99
        ],
        [
         36,
         "2024-07-18",
         "Widget",
         "Widget-B",
         4,
         9.99
        ],
        [
         37,
         "2024-07-19",
         "Doodad",
         "Doodad-2",
         3,
         4.99
        ],
        [
         38,
         "2024-07-19",
         "Gadget",
         "Gadget-Y",
         2,
         19.99
        ],
        [
         39,
         "2024-07-20",
         "Widget",
         "Widget-C",
         5,
         9.99
        ],
        [
         41,
         "2024-07-21",
         "Gadget",
         "Gadget-X",
         7,
         19.99
        ],
        [
         42,
         "2024-07-21",
         "Widget",
         "Widget-A",
         3,
         9.99
        ],
        [
         43,
         "2024-07-22",
         "Doodad",
         "Doodad-1",
         2,
         4.99
        ],
        [
         44,
         "2024-07-22",
         "Gadget",
         "Gadget-Y",
         6,
         19.99
        ],
        [
         45,
         "2024-07-23",
         "Widget",
         "Widget-B",
         7,
         9.99
        ],
        [
         46,
         "2024-07-23",
         "Doodad",
         "Doodad-2",
         3,
         4.99
        ],
        [
         48,
         "2024-07-24",
         "Widget",
         "Widget-C",
         5,
         9.99
        ],
        [
         49,
         "2024-07-25",
         "Doodad",
         "Doodad-3",
         4,
         4.99
        ],
        [
         50,
         "2024-07-25",
         "Gadget",
         "Gadget-Y",
         8,
         19.99
        ]
       ],
       "datasetInfos": [],
       "dbfsResultPath": null,
       "isJsonSchema": true,
       "metadata": {},
       "overflow": false,
       "plotOptions": {
        "customPlotOptions": {},
        "displayType": "table",
        "pivotAggregation": null,
        "pivotColumns": null,
        "xColumns": null,
        "yColumns": null
       },
       "removedWidgets": [],
       "schema": [
        {
         "metadata": "{}",
         "name": "transaction_id",
         "type": "\"integer\""
        },
        {
         "metadata": "{\"__detected_date_formats\":\"yyyy-M-d\"}",
         "name": "date",
         "type": "\"date\""
        },
        {
         "metadata": "{}",
         "name": "category",
         "type": "\"string\""
        },
        {
         "metadata": "{}",
         "name": "product",
         "type": "\"string\""
        },
        {
         "metadata": "{}",
         "name": "quantity",
         "type": "\"integer\""
        },
        {
         "metadata": "{}",
         "name": "price",
         "type": "\"double\""
        }
       ],
       "type": "table"
      }
     },
     "output_type": "display_data"
    }
   ],
   "source": [
    "df_cleaned = df.withColumn(\"price\", col(\"price\").cast(\"double\")).dropna(subset=[\"price\"]).withColumn(\"quantity\", col(\"quantity\")).dropna(subset=[\"quantity\"])\n",
    "display(df_cleaned)"
   ]
  },
  {
   "cell_type": "markdown",
   "metadata": {
    "application/vnd.databricks.v1+cell": {
     "cellMetadata": {
      "byteLimit": 2048000,
      "rowLimit": 10000
     },
     "inputWidgets": {},
     "nuid": "e03c5794-4761-4128-885e-085b006b2ae9",
     "showTitle": false,
     "tableResultSettingsMap": {},
     "title": ""
    }
   },
   "source": [
    "\n",
    "## 2. DERIVED COLUMNS"
   ]
  },
  {
   "cell_type": "markdown",
   "metadata": {
    "application/vnd.databricks.v1+cell": {
     "cellMetadata": {
      "byteLimit": 2048000,
      "rowLimit": 10000
     },
     "inputWidgets": {},
     "nuid": "25be2f13-b63d-4bf8-b8b1-3202b0c3be0f",
     "showTitle": false,
     "tableResultSettingsMap": {},
     "title": ""
    }
   },
   "source": [
    "> **Calculate total_sales (quantity * price) for each transaction**"
   ]
  },
  {
   "cell_type": "code",
   "execution_count": 0,
   "metadata": {
    "application/vnd.databricks.v1+cell": {
     "cellMetadata": {
      "byteLimit": 2048000,
      "rowLimit": 10000
     },
     "inputWidgets": {},
     "nuid": "6a0b6c96-1508-4a19-905b-bf96c6d40c60",
     "showTitle": false,
     "tableResultSettingsMap": {},
     "title": ""
    }
   },
   "outputs": [
    {
     "output_type": "display_data",
     "data": {
      "text/html": [
       "<style scoped>\n",
       "  .table-result-container {\n",
       "    max-height: 300px;\n",
       "    overflow: auto;\n",
       "  }\n",
       "  table, th, td {\n",
       "    border: 1px solid black;\n",
       "    border-collapse: collapse;\n",
       "  }\n",
       "  th, td {\n",
       "    padding: 5px;\n",
       "  }\n",
       "  th {\n",
       "    text-align: left;\n",
       "  }\n",
       "</style><div class='table-result-container'><table class='table-result'><thead style='background-color: white'><tr><th>transaction_id</th><th>date</th><th>category</th><th>product</th><th>quantity</th><th>price</th><th>total_sales</th></tr></thead><tbody><tr><td>1</td><td>2024-07-01</td><td>Widget</td><td>Widget-A</td><td>10</td><td>9.99</td><td>99.9</td></tr><tr><td>2</td><td>2024-07-01</td><td>Gadget</td><td>Gadget-X</td><td>5</td><td>19.99</td><td>99.94999999999999</td></tr><tr><td>3</td><td>2024-07-02</td><td>Widget</td><td>Widget-B</td><td>7</td><td>9.99</td><td>69.93</td></tr><tr><td>5</td><td>2024-07-03</td><td>Widget</td><td>Widget-C</td><td>3</td><td>9.99</td><td>29.97</td></tr><tr><td>6</td><td>2024-07-03</td><td>Gadget</td><td>Gadget-Y</td><td>8</td><td>19.99</td><td>159.92</td></tr><tr><td>7</td><td>2024-07-04</td><td>Widget</td><td>Widget-A</td><td>2</td><td>9.99</td><td>19.98</td></tr><tr><td>9</td><td>2024-07-05</td><td>Widget</td><td>Widget-B</td><td>6</td><td>9.99</td><td>59.94</td></tr><tr><td>10</td><td>2024-07-05</td><td>Gadget</td><td>Gadget-X</td><td>3</td><td>19.99</td><td>59.97</td></tr><tr><td>11</td><td>2024-07-06</td><td>Gadget</td><td>null</td><td>5</td><td>19.99</td><td>99.94999999999999</td></tr><tr><td>12</td><td>2024-07-06</td><td>Doodad</td><td>Doodad-3</td><td>1</td><td>4.99</td><td>4.99</td></tr><tr><td>13</td><td>2024-07-07</td><td>Widget</td><td>Widget-C</td><td>8</td><td>9.99</td><td>79.92</td></tr><tr><td>14</td><td>2024-07-07</td><td>Gadget</td><td>Gadget-Y</td><td>4</td><td>19.99</td><td>79.96</td></tr><tr><td>15</td><td>2024-07-08</td><td>Widget</td><td>Widget-A</td><td>3</td><td>9.99</td><td>29.97</td></tr><tr><td>16</td><td>2024-07-08</td><td>Doodad</td><td>Doodad-1</td><td>2</td><td>4.99</td><td>9.98</td></tr><tr><td>18</td><td>2024-07-09</td><td>Widget</td><td>Widget-B</td><td>5</td><td>9.99</td><td>49.95</td></tr><tr><td>19</td><td>2024-07-10</td><td>Doodad</td><td>Doodad-2</td><td>4</td><td>4.99</td><td>19.96</td></tr><tr><td>20</td><td>2024-07-10</td><td>Gadget</td><td>Gadget-Y</td><td>7</td><td>19.99</td><td>139.92999999999998</td></tr><tr><td>21</td><td>2024-07-11</td><td>Widget</td><td>Widget-C</td><td>6</td><td>9.99</td><td>59.94</td></tr><tr><td>22</td><td>2024-07-11</td><td>Doodad</td><td>Doodad-3</td><td>3</td><td>4.99</td><td>14.97</td></tr><tr><td>23</td><td>2024-07-12</td><td>Gadget</td><td>Gadget-X</td><td>9</td><td>19.99</td><td>179.91</td></tr><tr><td>24</td><td>2024-07-12</td><td>Widget</td><td>Widget-A</td><td>1</td><td>9.99</td><td>9.99</td></tr><tr><td>25</td><td>2024-07-13</td><td>Doodad</td><td>Doodad-1</td><td>2</td><td>4.99</td><td>9.98</td></tr><tr><td>26</td><td>2024-07-13</td><td>Gadget</td><td>Gadget-Y</td><td>5</td><td>19.99</td><td>99.94999999999999</td></tr><tr><td>28</td><td>2024-07-14</td><td>Doodad</td><td>Doodad-2</td><td>4</td><td>4.99</td><td>19.96</td></tr><tr><td>29</td><td>2024-07-15</td><td>Gadget</td><td>Gadget-X</td><td>7</td><td>19.99</td><td>139.92999999999998</td></tr><tr><td>30</td><td>2024-07-15</td><td>Widget</td><td>Widget-C</td><td>3</td><td>9.99</td><td>29.97</td></tr><tr><td>31</td><td>2024-07-16</td><td>Doodad</td><td>Doodad-3</td><td>1</td><td>4.99</td><td>4.99</td></tr><tr><td>33</td><td>2024-07-17</td><td>Widget</td><td>Widget-A</td><td>8</td><td>9.99</td><td>79.92</td></tr><tr><td>34</td><td>2024-07-17</td><td>Doodad</td><td>Doodad-1</td><td>2</td><td>4.99</td><td>9.98</td></tr><tr><td>35</td><td>2024-07-18</td><td>Gadget</td><td>Gadget-X</td><td>6</td><td>19.99</td><td>119.94</td></tr><tr><td>36</td><td>2024-07-18</td><td>Widget</td><td>Widget-B</td><td>4</td><td>9.99</td><td>39.96</td></tr><tr><td>37</td><td>2024-07-19</td><td>Doodad</td><td>Doodad-2</td><td>3</td><td>4.99</td><td>14.97</td></tr><tr><td>38</td><td>2024-07-19</td><td>Gadget</td><td>Gadget-Y</td><td>2</td><td>19.99</td><td>39.98</td></tr><tr><td>39</td><td>2024-07-20</td><td>Widget</td><td>Widget-C</td><td>5</td><td>9.99</td><td>49.95</td></tr><tr><td>41</td><td>2024-07-21</td><td>Gadget</td><td>Gadget-X</td><td>7</td><td>19.99</td><td>139.92999999999998</td></tr><tr><td>42</td><td>2024-07-21</td><td>Widget</td><td>Widget-A</td><td>3</td><td>9.99</td><td>29.97</td></tr><tr><td>43</td><td>2024-07-22</td><td>Doodad</td><td>Doodad-1</td><td>2</td><td>4.99</td><td>9.98</td></tr><tr><td>44</td><td>2024-07-22</td><td>Gadget</td><td>Gadget-Y</td><td>6</td><td>19.99</td><td>119.94</td></tr><tr><td>45</td><td>2024-07-23</td><td>Widget</td><td>Widget-B</td><td>7</td><td>9.99</td><td>69.93</td></tr><tr><td>46</td><td>2024-07-23</td><td>Doodad</td><td>Doodad-2</td><td>3</td><td>4.99</td><td>14.97</td></tr><tr><td>48</td><td>2024-07-24</td><td>Widget</td><td>Widget-C</td><td>5</td><td>9.99</td><td>49.95</td></tr><tr><td>49</td><td>2024-07-25</td><td>Doodad</td><td>Doodad-3</td><td>4</td><td>4.99</td><td>19.96</td></tr><tr><td>50</td><td>2024-07-25</td><td>Gadget</td><td>Gadget-Y</td><td>8</td><td>19.99</td><td>159.92</td></tr></tbody></table></div>"
      ]
     },
     "metadata": {
      "application/vnd.databricks.v1+output": {
       "addedWidgets": {},
       "aggData": [],
       "aggError": "",
       "aggOverflow": false,
       "aggSchema": [],
       "aggSeriesLimitReached": false,
       "aggType": "",
       "arguments": {},
       "columnCustomDisplayInfos": {},
       "data": [
        [
         1,
         "2024-07-01",
         "Widget",
         "Widget-A",
         10,
         9.99,
         99.9
        ],
        [
         2,
         "2024-07-01",
         "Gadget",
         "Gadget-X",
         5,
         19.99,
         99.94999999999999
        ],
        [
         3,
         "2024-07-02",
         "Widget",
         "Widget-B",
         7,
         9.99,
         69.93
        ],
        [
         5,
         "2024-07-03",
         "Widget",
         "Widget-C",
         3,
         9.99,
         29.97
        ],
        [
         6,
         "2024-07-03",
         "Gadget",
         "Gadget-Y",
         8,
         19.99,
         159.92
        ],
        [
         7,
         "2024-07-04",
         "Widget",
         "Widget-A",
         2,
         9.99,
         19.98
        ],
        [
         9,
         "2024-07-05",
         "Widget",
         "Widget-B",
         6,
         9.99,
         59.94
        ],
        [
         10,
         "2024-07-05",
         "Gadget",
         "Gadget-X",
         3,
         19.99,
         59.97
        ],
        [
         11,
         "2024-07-06",
         "Gadget",
         null,
         5,
         19.99,
         99.94999999999999
        ],
        [
         12,
         "2024-07-06",
         "Doodad",
         "Doodad-3",
         1,
         4.99,
         4.99
        ],
        [
         13,
         "2024-07-07",
         "Widget",
         "Widget-C",
         8,
         9.99,
         79.92
        ],
        [
         14,
         "2024-07-07",
         "Gadget",
         "Gadget-Y",
         4,
         19.99,
         79.96
        ],
        [
         15,
         "2024-07-08",
         "Widget",
         "Widget-A",
         3,
         9.99,
         29.97
        ],
        [
         16,
         "2024-07-08",
         "Doodad",
         "Doodad-1",
         2,
         4.99,
         9.98
        ],
        [
         18,
         "2024-07-09",
         "Widget",
         "Widget-B",
         5,
         9.99,
         49.95
        ],
        [
         19,
         "2024-07-10",
         "Doodad",
         "Doodad-2",
         4,
         4.99,
         19.96
        ],
        [
         20,
         "2024-07-10",
         "Gadget",
         "Gadget-Y",
         7,
         19.99,
         139.92999999999998
        ],
        [
         21,
         "2024-07-11",
         "Widget",
         "Widget-C",
         6,
         9.99,
         59.94
        ],
        [
         22,
         "2024-07-11",
         "Doodad",
         "Doodad-3",
         3,
         4.99,
         14.97
        ],
        [
         23,
         "2024-07-12",
         "Gadget",
         "Gadget-X",
         9,
         19.99,
         179.91
        ],
        [
         24,
         "2024-07-12",
         "Widget",
         "Widget-A",
         1,
         9.99,
         9.99
        ],
        [
         25,
         "2024-07-13",
         "Doodad",
         "Doodad-1",
         2,
         4.99,
         9.98
        ],
        [
         26,
         "2024-07-13",
         "Gadget",
         "Gadget-Y",
         5,
         19.99,
         99.94999999999999
        ],
        [
         28,
         "2024-07-14",
         "Doodad",
         "Doodad-2",
         4,
         4.99,
         19.96
        ],
        [
         29,
         "2024-07-15",
         "Gadget",
         "Gadget-X",
         7,
         19.99,
         139.92999999999998
        ],
        [
         30,
         "2024-07-15",
         "Widget",
         "Widget-C",
         3,
         9.99,
         29.97
        ],
        [
         31,
         "2024-07-16",
         "Doodad",
         "Doodad-3",
         1,
         4.99,
         4.99
        ],
        [
         33,
         "2024-07-17",
         "Widget",
         "Widget-A",
         8,
         9.99,
         79.92
        ],
        [
         34,
         "2024-07-17",
         "Doodad",
         "Doodad-1",
         2,
         4.99,
         9.98
        ],
        [
         35,
         "2024-07-18",
         "Gadget",
         "Gadget-X",
         6,
         19.99,
         119.94
        ],
        [
         36,
         "2024-07-18",
         "Widget",
         "Widget-B",
         4,
         9.99,
         39.96
        ],
        [
         37,
         "2024-07-19",
         "Doodad",
         "Doodad-2",
         3,
         4.99,
         14.97
        ],
        [
         38,
         "2024-07-19",
         "Gadget",
         "Gadget-Y",
         2,
         19.99,
         39.98
        ],
        [
         39,
         "2024-07-20",
         "Widget",
         "Widget-C",
         5,
         9.99,
         49.95
        ],
        [
         41,
         "2024-07-21",
         "Gadget",
         "Gadget-X",
         7,
         19.99,
         139.92999999999998
        ],
        [
         42,
         "2024-07-21",
         "Widget",
         "Widget-A",
         3,
         9.99,
         29.97
        ],
        [
         43,
         "2024-07-22",
         "Doodad",
         "Doodad-1",
         2,
         4.99,
         9.98
        ],
        [
         44,
         "2024-07-22",
         "Gadget",
         "Gadget-Y",
         6,
         19.99,
         119.94
        ],
        [
         45,
         "2024-07-23",
         "Widget",
         "Widget-B",
         7,
         9.99,
         69.93
        ],
        [
         46,
         "2024-07-23",
         "Doodad",
         "Doodad-2",
         3,
         4.99,
         14.97
        ],
        [
         48,
         "2024-07-24",
         "Widget",
         "Widget-C",
         5,
         9.99,
         49.95
        ],
        [
         49,
         "2024-07-25",
         "Doodad",
         "Doodad-3",
         4,
         4.99,
         19.96
        ],
        [
         50,
         "2024-07-25",
         "Gadget",
         "Gadget-Y",
         8,
         19.99,
         159.92
        ]
       ],
       "datasetInfos": [],
       "dbfsResultPath": null,
       "isJsonSchema": true,
       "metadata": {},
       "overflow": false,
       "plotOptions": {
        "customPlotOptions": {},
        "displayType": "table",
        "pivotAggregation": null,
        "pivotColumns": null,
        "xColumns": null,
        "yColumns": null
       },
       "removedWidgets": [],
       "schema": [
        {
         "metadata": "{}",
         "name": "transaction_id",
         "type": "\"integer\""
        },
        {
         "metadata": "{\"__detected_date_formats\":\"yyyy-M-d\"}",
         "name": "date",
         "type": "\"date\""
        },
        {
         "metadata": "{}",
         "name": "category",
         "type": "\"string\""
        },
        {
         "metadata": "{}",
         "name": "product",
         "type": "\"string\""
        },
        {
         "metadata": "{}",
         "name": "quantity",
         "type": "\"integer\""
        },
        {
         "metadata": "{}",
         "name": "price",
         "type": "\"double\""
        },
        {
         "metadata": "{}",
         "name": "total_sales",
         "type": "\"double\""
        }
       ],
       "type": "table"
      }
     },
     "output_type": "display_data"
    }
   ],
   "source": [
    "df_total_sales = df_cleaned.alias(\"a\"). \\\n",
    "                  select(\n",
    "                    \"a.*\", \n",
    "                    (col(\"quantity\") * col(\"price\")).alias(\"total_sales\"))\n",
    "display(df_total_sales)"
   ]
  },
  {
   "cell_type": "markdown",
   "metadata": {
    "application/vnd.databricks.v1+cell": {
     "cellMetadata": {
      "byteLimit": 2048000,
      "rowLimit": 10000
     },
     "inputWidgets": {},
     "nuid": "a38177bb-bc05-46ca-a5e5-975ffa5851f7",
     "showTitle": false,
     "tableResultSettingsMap": {},
     "title": ""
    }
   },
   "source": [
    "> **Create a day_of_week column based on the date**"
   ]
  },
  {
   "cell_type": "code",
   "execution_count": 0,
   "metadata": {
    "application/vnd.databricks.v1+cell": {
     "cellMetadata": {
      "byteLimit": 2048000,
      "rowLimit": 10000
     },
     "inputWidgets": {},
     "nuid": "0ff47db4-687f-42be-a72b-881a8aa97109",
     "showTitle": false,
     "tableResultSettingsMap": {},
     "title": ""
    }
   },
   "outputs": [
    {
     "output_type": "display_data",
     "data": {
      "text/html": [
       "<style scoped>\n",
       "  .table-result-container {\n",
       "    max-height: 300px;\n",
       "    overflow: auto;\n",
       "  }\n",
       "  table, th, td {\n",
       "    border: 1px solid black;\n",
       "    border-collapse: collapse;\n",
       "  }\n",
       "  th, td {\n",
       "    padding: 5px;\n",
       "  }\n",
       "  th {\n",
       "    text-align: left;\n",
       "  }\n",
       "</style><div class='table-result-container'><table class='table-result'><thead style='background-color: white'><tr><th>transaction_id</th><th>date</th><th>category</th><th>product</th><th>quantity</th><th>price</th><th>total_sales</th><th>day_of_week</th></tr></thead><tbody><tr><td>1</td><td>2024-07-01</td><td>Widget</td><td>Widget-A</td><td>10</td><td>9.99</td><td>99.9</td><td>Monday</td></tr><tr><td>2</td><td>2024-07-01</td><td>Gadget</td><td>Gadget-X</td><td>5</td><td>19.99</td><td>99.94999999999999</td><td>Monday</td></tr><tr><td>3</td><td>2024-07-02</td><td>Widget</td><td>Widget-B</td><td>7</td><td>9.99</td><td>69.93</td><td>Tuesday</td></tr><tr><td>5</td><td>2024-07-03</td><td>Widget</td><td>Widget-C</td><td>3</td><td>9.99</td><td>29.97</td><td>Wednesday</td></tr><tr><td>6</td><td>2024-07-03</td><td>Gadget</td><td>Gadget-Y</td><td>8</td><td>19.99</td><td>159.92</td><td>Wednesday</td></tr><tr><td>7</td><td>2024-07-04</td><td>Widget</td><td>Widget-A</td><td>2</td><td>9.99</td><td>19.98</td><td>Thursday</td></tr><tr><td>9</td><td>2024-07-05</td><td>Widget</td><td>Widget-B</td><td>6</td><td>9.99</td><td>59.94</td><td>Friday</td></tr><tr><td>10</td><td>2024-07-05</td><td>Gadget</td><td>Gadget-X</td><td>3</td><td>19.99</td><td>59.97</td><td>Friday</td></tr><tr><td>11</td><td>2024-07-06</td><td>Gadget</td><td>null</td><td>5</td><td>19.99</td><td>99.94999999999999</td><td>Saturday</td></tr><tr><td>12</td><td>2024-07-06</td><td>Doodad</td><td>Doodad-3</td><td>1</td><td>4.99</td><td>4.99</td><td>Saturday</td></tr><tr><td>13</td><td>2024-07-07</td><td>Widget</td><td>Widget-C</td><td>8</td><td>9.99</td><td>79.92</td><td>Sunday</td></tr><tr><td>14</td><td>2024-07-07</td><td>Gadget</td><td>Gadget-Y</td><td>4</td><td>19.99</td><td>79.96</td><td>Sunday</td></tr><tr><td>15</td><td>2024-07-08</td><td>Widget</td><td>Widget-A</td><td>3</td><td>9.99</td><td>29.97</td><td>Monday</td></tr><tr><td>16</td><td>2024-07-08</td><td>Doodad</td><td>Doodad-1</td><td>2</td><td>4.99</td><td>9.98</td><td>Monday</td></tr><tr><td>18</td><td>2024-07-09</td><td>Widget</td><td>Widget-B</td><td>5</td><td>9.99</td><td>49.95</td><td>Tuesday</td></tr><tr><td>19</td><td>2024-07-10</td><td>Doodad</td><td>Doodad-2</td><td>4</td><td>4.99</td><td>19.96</td><td>Wednesday</td></tr><tr><td>20</td><td>2024-07-10</td><td>Gadget</td><td>Gadget-Y</td><td>7</td><td>19.99</td><td>139.92999999999998</td><td>Wednesday</td></tr><tr><td>21</td><td>2024-07-11</td><td>Widget</td><td>Widget-C</td><td>6</td><td>9.99</td><td>59.94</td><td>Thursday</td></tr><tr><td>22</td><td>2024-07-11</td><td>Doodad</td><td>Doodad-3</td><td>3</td><td>4.99</td><td>14.97</td><td>Thursday</td></tr><tr><td>23</td><td>2024-07-12</td><td>Gadget</td><td>Gadget-X</td><td>9</td><td>19.99</td><td>179.91</td><td>Friday</td></tr><tr><td>24</td><td>2024-07-12</td><td>Widget</td><td>Widget-A</td><td>1</td><td>9.99</td><td>9.99</td><td>Friday</td></tr><tr><td>25</td><td>2024-07-13</td><td>Doodad</td><td>Doodad-1</td><td>2</td><td>4.99</td><td>9.98</td><td>Saturday</td></tr><tr><td>26</td><td>2024-07-13</td><td>Gadget</td><td>Gadget-Y</td><td>5</td><td>19.99</td><td>99.94999999999999</td><td>Saturday</td></tr><tr><td>28</td><td>2024-07-14</td><td>Doodad</td><td>Doodad-2</td><td>4</td><td>4.99</td><td>19.96</td><td>Sunday</td></tr><tr><td>29</td><td>2024-07-15</td><td>Gadget</td><td>Gadget-X</td><td>7</td><td>19.99</td><td>139.92999999999998</td><td>Monday</td></tr><tr><td>30</td><td>2024-07-15</td><td>Widget</td><td>Widget-C</td><td>3</td><td>9.99</td><td>29.97</td><td>Monday</td></tr><tr><td>31</td><td>2024-07-16</td><td>Doodad</td><td>Doodad-3</td><td>1</td><td>4.99</td><td>4.99</td><td>Tuesday</td></tr><tr><td>33</td><td>2024-07-17</td><td>Widget</td><td>Widget-A</td><td>8</td><td>9.99</td><td>79.92</td><td>Wednesday</td></tr><tr><td>34</td><td>2024-07-17</td><td>Doodad</td><td>Doodad-1</td><td>2</td><td>4.99</td><td>9.98</td><td>Wednesday</td></tr><tr><td>35</td><td>2024-07-18</td><td>Gadget</td><td>Gadget-X</td><td>6</td><td>19.99</td><td>119.94</td><td>Thursday</td></tr><tr><td>36</td><td>2024-07-18</td><td>Widget</td><td>Widget-B</td><td>4</td><td>9.99</td><td>39.96</td><td>Thursday</td></tr><tr><td>37</td><td>2024-07-19</td><td>Doodad</td><td>Doodad-2</td><td>3</td><td>4.99</td><td>14.97</td><td>Friday</td></tr><tr><td>38</td><td>2024-07-19</td><td>Gadget</td><td>Gadget-Y</td><td>2</td><td>19.99</td><td>39.98</td><td>Friday</td></tr><tr><td>39</td><td>2024-07-20</td><td>Widget</td><td>Widget-C</td><td>5</td><td>9.99</td><td>49.95</td><td>Saturday</td></tr><tr><td>41</td><td>2024-07-21</td><td>Gadget</td><td>Gadget-X</td><td>7</td><td>19.99</td><td>139.92999999999998</td><td>Sunday</td></tr><tr><td>42</td><td>2024-07-21</td><td>Widget</td><td>Widget-A</td><td>3</td><td>9.99</td><td>29.97</td><td>Sunday</td></tr><tr><td>43</td><td>2024-07-22</td><td>Doodad</td><td>Doodad-1</td><td>2</td><td>4.99</td><td>9.98</td><td>Monday</td></tr><tr><td>44</td><td>2024-07-22</td><td>Gadget</td><td>Gadget-Y</td><td>6</td><td>19.99</td><td>119.94</td><td>Monday</td></tr><tr><td>45</td><td>2024-07-23</td><td>Widget</td><td>Widget-B</td><td>7</td><td>9.99</td><td>69.93</td><td>Tuesday</td></tr><tr><td>46</td><td>2024-07-23</td><td>Doodad</td><td>Doodad-2</td><td>3</td><td>4.99</td><td>14.97</td><td>Tuesday</td></tr><tr><td>48</td><td>2024-07-24</td><td>Widget</td><td>Widget-C</td><td>5</td><td>9.99</td><td>49.95</td><td>Wednesday</td></tr><tr><td>49</td><td>2024-07-25</td><td>Doodad</td><td>Doodad-3</td><td>4</td><td>4.99</td><td>19.96</td><td>Thursday</td></tr><tr><td>50</td><td>2024-07-25</td><td>Gadget</td><td>Gadget-Y</td><td>8</td><td>19.99</td><td>159.92</td><td>Thursday</td></tr></tbody></table></div>"
      ]
     },
     "metadata": {
      "application/vnd.databricks.v1+output": {
       "addedWidgets": {},
       "aggData": [],
       "aggError": "",
       "aggOverflow": false,
       "aggSchema": [],
       "aggSeriesLimitReached": false,
       "aggType": "",
       "arguments": {},
       "columnCustomDisplayInfos": {},
       "data": [
        [
         1,
         "2024-07-01",
         "Widget",
         "Widget-A",
         10,
         9.99,
         99.9,
         "Monday"
        ],
        [
         2,
         "2024-07-01",
         "Gadget",
         "Gadget-X",
         5,
         19.99,
         99.94999999999999,
         "Monday"
        ],
        [
         3,
         "2024-07-02",
         "Widget",
         "Widget-B",
         7,
         9.99,
         69.93,
         "Tuesday"
        ],
        [
         5,
         "2024-07-03",
         "Widget",
         "Widget-C",
         3,
         9.99,
         29.97,
         "Wednesday"
        ],
        [
         6,
         "2024-07-03",
         "Gadget",
         "Gadget-Y",
         8,
         19.99,
         159.92,
         "Wednesday"
        ],
        [
         7,
         "2024-07-04",
         "Widget",
         "Widget-A",
         2,
         9.99,
         19.98,
         "Thursday"
        ],
        [
         9,
         "2024-07-05",
         "Widget",
         "Widget-B",
         6,
         9.99,
         59.94,
         "Friday"
        ],
        [
         10,
         "2024-07-05",
         "Gadget",
         "Gadget-X",
         3,
         19.99,
         59.97,
         "Friday"
        ],
        [
         11,
         "2024-07-06",
         "Gadget",
         null,
         5,
         19.99,
         99.94999999999999,
         "Saturday"
        ],
        [
         12,
         "2024-07-06",
         "Doodad",
         "Doodad-3",
         1,
         4.99,
         4.99,
         "Saturday"
        ],
        [
         13,
         "2024-07-07",
         "Widget",
         "Widget-C",
         8,
         9.99,
         79.92,
         "Sunday"
        ],
        [
         14,
         "2024-07-07",
         "Gadget",
         "Gadget-Y",
         4,
         19.99,
         79.96,
         "Sunday"
        ],
        [
         15,
         "2024-07-08",
         "Widget",
         "Widget-A",
         3,
         9.99,
         29.97,
         "Monday"
        ],
        [
         16,
         "2024-07-08",
         "Doodad",
         "Doodad-1",
         2,
         4.99,
         9.98,
         "Monday"
        ],
        [
         18,
         "2024-07-09",
         "Widget",
         "Widget-B",
         5,
         9.99,
         49.95,
         "Tuesday"
        ],
        [
         19,
         "2024-07-10",
         "Doodad",
         "Doodad-2",
         4,
         4.99,
         19.96,
         "Wednesday"
        ],
        [
         20,
         "2024-07-10",
         "Gadget",
         "Gadget-Y",
         7,
         19.99,
         139.92999999999998,
         "Wednesday"
        ],
        [
         21,
         "2024-07-11",
         "Widget",
         "Widget-C",
         6,
         9.99,
         59.94,
         "Thursday"
        ],
        [
         22,
         "2024-07-11",
         "Doodad",
         "Doodad-3",
         3,
         4.99,
         14.97,
         "Thursday"
        ],
        [
         23,
         "2024-07-12",
         "Gadget",
         "Gadget-X",
         9,
         19.99,
         179.91,
         "Friday"
        ],
        [
         24,
         "2024-07-12",
         "Widget",
         "Widget-A",
         1,
         9.99,
         9.99,
         "Friday"
        ],
        [
         25,
         "2024-07-13",
         "Doodad",
         "Doodad-1",
         2,
         4.99,
         9.98,
         "Saturday"
        ],
        [
         26,
         "2024-07-13",
         "Gadget",
         "Gadget-Y",
         5,
         19.99,
         99.94999999999999,
         "Saturday"
        ],
        [
         28,
         "2024-07-14",
         "Doodad",
         "Doodad-2",
         4,
         4.99,
         19.96,
         "Sunday"
        ],
        [
         29,
         "2024-07-15",
         "Gadget",
         "Gadget-X",
         7,
         19.99,
         139.92999999999998,
         "Monday"
        ],
        [
         30,
         "2024-07-15",
         "Widget",
         "Widget-C",
         3,
         9.99,
         29.97,
         "Monday"
        ],
        [
         31,
         "2024-07-16",
         "Doodad",
         "Doodad-3",
         1,
         4.99,
         4.99,
         "Tuesday"
        ],
        [
         33,
         "2024-07-17",
         "Widget",
         "Widget-A",
         8,
         9.99,
         79.92,
         "Wednesday"
        ],
        [
         34,
         "2024-07-17",
         "Doodad",
         "Doodad-1",
         2,
         4.99,
         9.98,
         "Wednesday"
        ],
        [
         35,
         "2024-07-18",
         "Gadget",
         "Gadget-X",
         6,
         19.99,
         119.94,
         "Thursday"
        ],
        [
         36,
         "2024-07-18",
         "Widget",
         "Widget-B",
         4,
         9.99,
         39.96,
         "Thursday"
        ],
        [
         37,
         "2024-07-19",
         "Doodad",
         "Doodad-2",
         3,
         4.99,
         14.97,
         "Friday"
        ],
        [
         38,
         "2024-07-19",
         "Gadget",
         "Gadget-Y",
         2,
         19.99,
         39.98,
         "Friday"
        ],
        [
         39,
         "2024-07-20",
         "Widget",
         "Widget-C",
         5,
         9.99,
         49.95,
         "Saturday"
        ],
        [
         41,
         "2024-07-21",
         "Gadget",
         "Gadget-X",
         7,
         19.99,
         139.92999999999998,
         "Sunday"
        ],
        [
         42,
         "2024-07-21",
         "Widget",
         "Widget-A",
         3,
         9.99,
         29.97,
         "Sunday"
        ],
        [
         43,
         "2024-07-22",
         "Doodad",
         "Doodad-1",
         2,
         4.99,
         9.98,
         "Monday"
        ],
        [
         44,
         "2024-07-22",
         "Gadget",
         "Gadget-Y",
         6,
         19.99,
         119.94,
         "Monday"
        ],
        [
         45,
         "2024-07-23",
         "Widget",
         "Widget-B",
         7,
         9.99,
         69.93,
         "Tuesday"
        ],
        [
         46,
         "2024-07-23",
         "Doodad",
         "Doodad-2",
         3,
         4.99,
         14.97,
         "Tuesday"
        ],
        [
         48,
         "2024-07-24",
         "Widget",
         "Widget-C",
         5,
         9.99,
         49.95,
         "Wednesday"
        ],
        [
         49,
         "2024-07-25",
         "Doodad",
         "Doodad-3",
         4,
         4.99,
         19.96,
         "Thursday"
        ],
        [
         50,
         "2024-07-25",
         "Gadget",
         "Gadget-Y",
         8,
         19.99,
         159.92,
         "Thursday"
        ]
       ],
       "datasetInfos": [],
       "dbfsResultPath": null,
       "isJsonSchema": true,
       "metadata": {},
       "overflow": false,
       "plotOptions": {
        "customPlotOptions": {},
        "displayType": "table",
        "pivotAggregation": null,
        "pivotColumns": null,
        "xColumns": null,
        "yColumns": null
       },
       "removedWidgets": [],
       "schema": [
        {
         "metadata": "{}",
         "name": "transaction_id",
         "type": "\"integer\""
        },
        {
         "metadata": "{\"__detected_date_formats\":\"yyyy-M-d\"}",
         "name": "date",
         "type": "\"date\""
        },
        {
         "metadata": "{}",
         "name": "category",
         "type": "\"string\""
        },
        {
         "metadata": "{}",
         "name": "product",
         "type": "\"string\""
        },
        {
         "metadata": "{}",
         "name": "quantity",
         "type": "\"integer\""
        },
        {
         "metadata": "{}",
         "name": "price",
         "type": "\"double\""
        },
        {
         "metadata": "{}",
         "name": "total_sales",
         "type": "\"double\""
        },
        {
         "metadata": "{}",
         "name": "day_of_week",
         "type": "\"string\""
        }
       ],
       "type": "table"
      }
     },
     "output_type": "display_data"
    }
   ],
   "source": [
    "df_day_week = df_total_sales.alias(\"b\").select(\n",
    "    \"b.*\",\n",
    "    date_format(col(\"date\"), \"EEEE\").alias(\"day_of_week\")\n",
    ")\n",
    "display(df_day_week)"
   ]
  },
  {
   "cell_type": "markdown",
   "metadata": {
    "application/vnd.databricks.v1+cell": {
     "cellMetadata": {
      "byteLimit": 2048000,
      "rowLimit": 10000
     },
     "inputWidgets": {},
     "nuid": "be0b28f6-b7e5-4cef-97e0-123f21347eff",
     "showTitle": false,
     "tableResultSettingsMap": {},
     "title": ""
    }
   },
   "source": [
    "> **Add a high_volume flag: True if quantity > 10, otherwise False.**"
   ]
  },
  {
   "cell_type": "code",
   "execution_count": 0,
   "metadata": {
    "application/vnd.databricks.v1+cell": {
     "cellMetadata": {
      "byteLimit": 2048000,
      "rowLimit": 10000
     },
     "inputWidgets": {},
     "nuid": "82b6bed2-4d18-4635-83a2-6c9aa635cd9e",
     "showTitle": false,
     "tableResultSettingsMap": {},
     "title": ""
    }
   },
   "outputs": [
    {
     "output_type": "display_data",
     "data": {
      "text/html": [
       "<style scoped>\n",
       "  .table-result-container {\n",
       "    max-height: 300px;\n",
       "    overflow: auto;\n",
       "  }\n",
       "  table, th, td {\n",
       "    border: 1px solid black;\n",
       "    border-collapse: collapse;\n",
       "  }\n",
       "  th, td {\n",
       "    padding: 5px;\n",
       "  }\n",
       "  th {\n",
       "    text-align: left;\n",
       "  }\n",
       "</style><div class='table-result-container'><table class='table-result'><thead style='background-color: white'><tr><th>transaction_id</th><th>date</th><th>category</th><th>product</th><th>quantity</th><th>price</th><th>total_sales</th><th>day_of_week</th><th>high_volume</th></tr></thead><tbody><tr><td>1</td><td>2024-07-01</td><td>Widget</td><td>Widget-A</td><td>10</td><td>9.99</td><td>99.9</td><td>Monday</td><td>false</td></tr><tr><td>2</td><td>2024-07-01</td><td>Gadget</td><td>Gadget-X</td><td>5</td><td>19.99</td><td>99.94999999999999</td><td>Monday</td><td>false</td></tr><tr><td>3</td><td>2024-07-02</td><td>Widget</td><td>Widget-B</td><td>7</td><td>9.99</td><td>69.93</td><td>Tuesday</td><td>false</td></tr><tr><td>5</td><td>2024-07-03</td><td>Widget</td><td>Widget-C</td><td>3</td><td>9.99</td><td>29.97</td><td>Wednesday</td><td>false</td></tr><tr><td>6</td><td>2024-07-03</td><td>Gadget</td><td>Gadget-Y</td><td>8</td><td>19.99</td><td>159.92</td><td>Wednesday</td><td>false</td></tr><tr><td>7</td><td>2024-07-04</td><td>Widget</td><td>Widget-A</td><td>2</td><td>9.99</td><td>19.98</td><td>Thursday</td><td>false</td></tr><tr><td>9</td><td>2024-07-05</td><td>Widget</td><td>Widget-B</td><td>6</td><td>9.99</td><td>59.94</td><td>Friday</td><td>false</td></tr><tr><td>10</td><td>2024-07-05</td><td>Gadget</td><td>Gadget-X</td><td>3</td><td>19.99</td><td>59.97</td><td>Friday</td><td>false</td></tr><tr><td>11</td><td>2024-07-06</td><td>Gadget</td><td>null</td><td>5</td><td>19.99</td><td>99.94999999999999</td><td>Saturday</td><td>false</td></tr><tr><td>12</td><td>2024-07-06</td><td>Doodad</td><td>Doodad-3</td><td>1</td><td>4.99</td><td>4.99</td><td>Saturday</td><td>false</td></tr><tr><td>13</td><td>2024-07-07</td><td>Widget</td><td>Widget-C</td><td>8</td><td>9.99</td><td>79.92</td><td>Sunday</td><td>false</td></tr><tr><td>14</td><td>2024-07-07</td><td>Gadget</td><td>Gadget-Y</td><td>4</td><td>19.99</td><td>79.96</td><td>Sunday</td><td>false</td></tr><tr><td>15</td><td>2024-07-08</td><td>Widget</td><td>Widget-A</td><td>3</td><td>9.99</td><td>29.97</td><td>Monday</td><td>false</td></tr><tr><td>16</td><td>2024-07-08</td><td>Doodad</td><td>Doodad-1</td><td>2</td><td>4.99</td><td>9.98</td><td>Monday</td><td>false</td></tr><tr><td>18</td><td>2024-07-09</td><td>Widget</td><td>Widget-B</td><td>5</td><td>9.99</td><td>49.95</td><td>Tuesday</td><td>false</td></tr><tr><td>19</td><td>2024-07-10</td><td>Doodad</td><td>Doodad-2</td><td>4</td><td>4.99</td><td>19.96</td><td>Wednesday</td><td>false</td></tr><tr><td>20</td><td>2024-07-10</td><td>Gadget</td><td>Gadget-Y</td><td>7</td><td>19.99</td><td>139.92999999999998</td><td>Wednesday</td><td>false</td></tr><tr><td>21</td><td>2024-07-11</td><td>Widget</td><td>Widget-C</td><td>6</td><td>9.99</td><td>59.94</td><td>Thursday</td><td>false</td></tr><tr><td>22</td><td>2024-07-11</td><td>Doodad</td><td>Doodad-3</td><td>3</td><td>4.99</td><td>14.97</td><td>Thursday</td><td>false</td></tr><tr><td>23</td><td>2024-07-12</td><td>Gadget</td><td>Gadget-X</td><td>9</td><td>19.99</td><td>179.91</td><td>Friday</td><td>false</td></tr><tr><td>24</td><td>2024-07-12</td><td>Widget</td><td>Widget-A</td><td>1</td><td>9.99</td><td>9.99</td><td>Friday</td><td>false</td></tr><tr><td>25</td><td>2024-07-13</td><td>Doodad</td><td>Doodad-1</td><td>2</td><td>4.99</td><td>9.98</td><td>Saturday</td><td>false</td></tr><tr><td>26</td><td>2024-07-13</td><td>Gadget</td><td>Gadget-Y</td><td>5</td><td>19.99</td><td>99.94999999999999</td><td>Saturday</td><td>false</td></tr><tr><td>28</td><td>2024-07-14</td><td>Doodad</td><td>Doodad-2</td><td>4</td><td>4.99</td><td>19.96</td><td>Sunday</td><td>false</td></tr><tr><td>29</td><td>2024-07-15</td><td>Gadget</td><td>Gadget-X</td><td>7</td><td>19.99</td><td>139.92999999999998</td><td>Monday</td><td>false</td></tr><tr><td>30</td><td>2024-07-15</td><td>Widget</td><td>Widget-C</td><td>3</td><td>9.99</td><td>29.97</td><td>Monday</td><td>false</td></tr><tr><td>31</td><td>2024-07-16</td><td>Doodad</td><td>Doodad-3</td><td>1</td><td>4.99</td><td>4.99</td><td>Tuesday</td><td>false</td></tr><tr><td>33</td><td>2024-07-17</td><td>Widget</td><td>Widget-A</td><td>8</td><td>9.99</td><td>79.92</td><td>Wednesday</td><td>false</td></tr><tr><td>34</td><td>2024-07-17</td><td>Doodad</td><td>Doodad-1</td><td>2</td><td>4.99</td><td>9.98</td><td>Wednesday</td><td>false</td></tr><tr><td>35</td><td>2024-07-18</td><td>Gadget</td><td>Gadget-X</td><td>6</td><td>19.99</td><td>119.94</td><td>Thursday</td><td>false</td></tr><tr><td>36</td><td>2024-07-18</td><td>Widget</td><td>Widget-B</td><td>4</td><td>9.99</td><td>39.96</td><td>Thursday</td><td>false</td></tr><tr><td>37</td><td>2024-07-19</td><td>Doodad</td><td>Doodad-2</td><td>3</td><td>4.99</td><td>14.97</td><td>Friday</td><td>false</td></tr><tr><td>38</td><td>2024-07-19</td><td>Gadget</td><td>Gadget-Y</td><td>2</td><td>19.99</td><td>39.98</td><td>Friday</td><td>false</td></tr><tr><td>39</td><td>2024-07-20</td><td>Widget</td><td>Widget-C</td><td>5</td><td>9.99</td><td>49.95</td><td>Saturday</td><td>false</td></tr><tr><td>41</td><td>2024-07-21</td><td>Gadget</td><td>Gadget-X</td><td>7</td><td>19.99</td><td>139.92999999999998</td><td>Sunday</td><td>false</td></tr><tr><td>42</td><td>2024-07-21</td><td>Widget</td><td>Widget-A</td><td>3</td><td>9.99</td><td>29.97</td><td>Sunday</td><td>false</td></tr><tr><td>43</td><td>2024-07-22</td><td>Doodad</td><td>Doodad-1</td><td>2</td><td>4.99</td><td>9.98</td><td>Monday</td><td>false</td></tr><tr><td>44</td><td>2024-07-22</td><td>Gadget</td><td>Gadget-Y</td><td>6</td><td>19.99</td><td>119.94</td><td>Monday</td><td>false</td></tr><tr><td>45</td><td>2024-07-23</td><td>Widget</td><td>Widget-B</td><td>7</td><td>9.99</td><td>69.93</td><td>Tuesday</td><td>false</td></tr><tr><td>46</td><td>2024-07-23</td><td>Doodad</td><td>Doodad-2</td><td>3</td><td>4.99</td><td>14.97</td><td>Tuesday</td><td>false</td></tr><tr><td>48</td><td>2024-07-24</td><td>Widget</td><td>Widget-C</td><td>5</td><td>9.99</td><td>49.95</td><td>Wednesday</td><td>false</td></tr><tr><td>49</td><td>2024-07-25</td><td>Doodad</td><td>Doodad-3</td><td>4</td><td>4.99</td><td>19.96</td><td>Thursday</td><td>false</td></tr><tr><td>50</td><td>2024-07-25</td><td>Gadget</td><td>Gadget-Y</td><td>8</td><td>19.99</td><td>159.92</td><td>Thursday</td><td>false</td></tr></tbody></table></div>"
      ]
     },
     "metadata": {
      "application/vnd.databricks.v1+output": {
       "addedWidgets": {},
       "aggData": [],
       "aggError": "",
       "aggOverflow": false,
       "aggSchema": [],
       "aggSeriesLimitReached": false,
       "aggType": "",
       "arguments": {},
       "columnCustomDisplayInfos": {},
       "data": [
        [
         1,
         "2024-07-01",
         "Widget",
         "Widget-A",
         10,
         9.99,
         99.9,
         "Monday",
         false
        ],
        [
         2,
         "2024-07-01",
         "Gadget",
         "Gadget-X",
         5,
         19.99,
         99.94999999999999,
         "Monday",
         false
        ],
        [
         3,
         "2024-07-02",
         "Widget",
         "Widget-B",
         7,
         9.99,
         69.93,
         "Tuesday",
         false
        ],
        [
         5,
         "2024-07-03",
         "Widget",
         "Widget-C",
         3,
         9.99,
         29.97,
         "Wednesday",
         false
        ],
        [
         6,
         "2024-07-03",
         "Gadget",
         "Gadget-Y",
         8,
         19.99,
         159.92,
         "Wednesday",
         false
        ],
        [
         7,
         "2024-07-04",
         "Widget",
         "Widget-A",
         2,
         9.99,
         19.98,
         "Thursday",
         false
        ],
        [
         9,
         "2024-07-05",
         "Widget",
         "Widget-B",
         6,
         9.99,
         59.94,
         "Friday",
         false
        ],
        [
         10,
         "2024-07-05",
         "Gadget",
         "Gadget-X",
         3,
         19.99,
         59.97,
         "Friday",
         false
        ],
        [
         11,
         "2024-07-06",
         "Gadget",
         null,
         5,
         19.99,
         99.94999999999999,
         "Saturday",
         false
        ],
        [
         12,
         "2024-07-06",
         "Doodad",
         "Doodad-3",
         1,
         4.99,
         4.99,
         "Saturday",
         false
        ],
        [
         13,
         "2024-07-07",
         "Widget",
         "Widget-C",
         8,
         9.99,
         79.92,
         "Sunday",
         false
        ],
        [
         14,
         "2024-07-07",
         "Gadget",
         "Gadget-Y",
         4,
         19.99,
         79.96,
         "Sunday",
         false
        ],
        [
         15,
         "2024-07-08",
         "Widget",
         "Widget-A",
         3,
         9.99,
         29.97,
         "Monday",
         false
        ],
        [
         16,
         "2024-07-08",
         "Doodad",
         "Doodad-1",
         2,
         4.99,
         9.98,
         "Monday",
         false
        ],
        [
         18,
         "2024-07-09",
         "Widget",
         "Widget-B",
         5,
         9.99,
         49.95,
         "Tuesday",
         false
        ],
        [
         19,
         "2024-07-10",
         "Doodad",
         "Doodad-2",
         4,
         4.99,
         19.96,
         "Wednesday",
         false
        ],
        [
         20,
         "2024-07-10",
         "Gadget",
         "Gadget-Y",
         7,
         19.99,
         139.92999999999998,
         "Wednesday",
         false
        ],
        [
         21,
         "2024-07-11",
         "Widget",
         "Widget-C",
         6,
         9.99,
         59.94,
         "Thursday",
         false
        ],
        [
         22,
         "2024-07-11",
         "Doodad",
         "Doodad-3",
         3,
         4.99,
         14.97,
         "Thursday",
         false
        ],
        [
         23,
         "2024-07-12",
         "Gadget",
         "Gadget-X",
         9,
         19.99,
         179.91,
         "Friday",
         false
        ],
        [
         24,
         "2024-07-12",
         "Widget",
         "Widget-A",
         1,
         9.99,
         9.99,
         "Friday",
         false
        ],
        [
         25,
         "2024-07-13",
         "Doodad",
         "Doodad-1",
         2,
         4.99,
         9.98,
         "Saturday",
         false
        ],
        [
         26,
         "2024-07-13",
         "Gadget",
         "Gadget-Y",
         5,
         19.99,
         99.94999999999999,
         "Saturday",
         false
        ],
        [
         28,
         "2024-07-14",
         "Doodad",
         "Doodad-2",
         4,
         4.99,
         19.96,
         "Sunday",
         false
        ],
        [
         29,
         "2024-07-15",
         "Gadget",
         "Gadget-X",
         7,
         19.99,
         139.92999999999998,
         "Monday",
         false
        ],
        [
         30,
         "2024-07-15",
         "Widget",
         "Widget-C",
         3,
         9.99,
         29.97,
         "Monday",
         false
        ],
        [
         31,
         "2024-07-16",
         "Doodad",
         "Doodad-3",
         1,
         4.99,
         4.99,
         "Tuesday",
         false
        ],
        [
         33,
         "2024-07-17",
         "Widget",
         "Widget-A",
         8,
         9.99,
         79.92,
         "Wednesday",
         false
        ],
        [
         34,
         "2024-07-17",
         "Doodad",
         "Doodad-1",
         2,
         4.99,
         9.98,
         "Wednesday",
         false
        ],
        [
         35,
         "2024-07-18",
         "Gadget",
         "Gadget-X",
         6,
         19.99,
         119.94,
         "Thursday",
         false
        ],
        [
         36,
         "2024-07-18",
         "Widget",
         "Widget-B",
         4,
         9.99,
         39.96,
         "Thursday",
         false
        ],
        [
         37,
         "2024-07-19",
         "Doodad",
         "Doodad-2",
         3,
         4.99,
         14.97,
         "Friday",
         false
        ],
        [
         38,
         "2024-07-19",
         "Gadget",
         "Gadget-Y",
         2,
         19.99,
         39.98,
         "Friday",
         false
        ],
        [
         39,
         "2024-07-20",
         "Widget",
         "Widget-C",
         5,
         9.99,
         49.95,
         "Saturday",
         false
        ],
        [
         41,
         "2024-07-21",
         "Gadget",
         "Gadget-X",
         7,
         19.99,
         139.92999999999998,
         "Sunday",
         false
        ],
        [
         42,
         "2024-07-21",
         "Widget",
         "Widget-A",
         3,
         9.99,
         29.97,
         "Sunday",
         false
        ],
        [
         43,
         "2024-07-22",
         "Doodad",
         "Doodad-1",
         2,
         4.99,
         9.98,
         "Monday",
         false
        ],
        [
         44,
         "2024-07-22",
         "Gadget",
         "Gadget-Y",
         6,
         19.99,
         119.94,
         "Monday",
         false
        ],
        [
         45,
         "2024-07-23",
         "Widget",
         "Widget-B",
         7,
         9.99,
         69.93,
         "Tuesday",
         false
        ],
        [
         46,
         "2024-07-23",
         "Doodad",
         "Doodad-2",
         3,
         4.99,
         14.97,
         "Tuesday",
         false
        ],
        [
         48,
         "2024-07-24",
         "Widget",
         "Widget-C",
         5,
         9.99,
         49.95,
         "Wednesday",
         false
        ],
        [
         49,
         "2024-07-25",
         "Doodad",
         "Doodad-3",
         4,
         4.99,
         19.96,
         "Thursday",
         false
        ],
        [
         50,
         "2024-07-25",
         "Gadget",
         "Gadget-Y",
         8,
         19.99,
         159.92,
         "Thursday",
         false
        ]
       ],
       "datasetInfos": [],
       "dbfsResultPath": null,
       "isJsonSchema": true,
       "metadata": {},
       "overflow": false,
       "plotOptions": {
        "customPlotOptions": {},
        "displayType": "table",
        "pivotAggregation": null,
        "pivotColumns": null,
        "xColumns": null,
        "yColumns": null
       },
       "removedWidgets": [],
       "schema": [
        {
         "metadata": "{}",
         "name": "transaction_id",
         "type": "\"integer\""
        },
        {
         "metadata": "{\"__detected_date_formats\":\"yyyy-M-d\"}",
         "name": "date",
         "type": "\"date\""
        },
        {
         "metadata": "{}",
         "name": "category",
         "type": "\"string\""
        },
        {
         "metadata": "{}",
         "name": "product",
         "type": "\"string\""
        },
        {
         "metadata": "{}",
         "name": "quantity",
         "type": "\"integer\""
        },
        {
         "metadata": "{}",
         "name": "price",
         "type": "\"double\""
        },
        {
         "metadata": "{}",
         "name": "total_sales",
         "type": "\"double\""
        },
        {
         "metadata": "{}",
         "name": "day_of_week",
         "type": "\"string\""
        },
        {
         "metadata": "{}",
         "name": "high_volume",
         "type": "\"boolean\""
        }
       ],
       "type": "table"
      }
     },
     "output_type": "display_data"
    }
   ],
   "source": [
    "df_flg = df_day_week.select(\n",
    "    \"*\",\n",
    "    when(col(\"quantity\") > 10, True).otherwise(False).alias(\"high_volume\")\n",
    ")\n",
    "display(df_flg)"
   ]
  },
  {
   "cell_type": "markdown",
   "metadata": {
    "application/vnd.databricks.v1+cell": {
     "cellMetadata": {
      "byteLimit": 2048000,
      "rowLimit": 10000
     },
     "inputWidgets": {},
     "nuid": "0946980a-d1d0-446c-830d-d31a63e84806",
     "showTitle": false,
     "tableResultSettingsMap": {},
     "title": ""
    }
   },
   "source": [
    "## 3. COMPLEX TRANSFORMATIONS"
   ]
  },
  {
   "cell_type": "markdown",
   "metadata": {
    "application/vnd.databricks.v1+cell": {
     "cellMetadata": {
      "byteLimit": 2048000,
      "rowLimit": 10000
     },
     "inputWidgets": {},
     "nuid": "70250bde-0074-4d32-8026-e848286f4325",
     "showTitle": false,
     "tableResultSettingsMap": {},
     "title": ""
    }
   },
   "source": [
    "> **Group data by category and calculate:**"
   ]
  },
  {
   "cell_type": "code",
   "execution_count": 0,
   "metadata": {
    "application/vnd.databricks.v1+cell": {
     "cellMetadata": {
      "byteLimit": 2048000,
      "rowLimit": 10000
     },
     "inputWidgets": {},
     "nuid": "79bef3f1-e244-4246-bc5d-dc2764e784e9",
     "showTitle": false,
     "tableResultSettingsMap": {},
     "title": ""
    }
   },
   "outputs": [
    {
     "output_type": "display_data",
     "data": {
      "text/html": [
       "<style scoped>\n",
       "  .table-result-container {\n",
       "    max-height: 300px;\n",
       "    overflow: auto;\n",
       "  }\n",
       "  table, th, td {\n",
       "    border: 1px solid black;\n",
       "    border-collapse: collapse;\n",
       "  }\n",
       "  th, td {\n",
       "    padding: 5px;\n",
       "  }\n",
       "  th {\n",
       "    text-align: left;\n",
       "  }\n",
       "</style><div class='table-result-container'><table class='table-result'><thead style='background-color: white'><tr><th>category</th><th>product</th><th>avg_price</th></tr></thead><tbody><tr><td>Doodad</td><td>Doodad-1</td><td>4.99</td></tr><tr><td>Doodad</td><td>Doodad-2</td><td>4.99</td></tr><tr><td>Doodad</td><td>Doodad-3</td><td>4.99</td></tr><tr><td>Gadget</td><td>null</td><td>19.99</td></tr><tr><td>Gadget</td><td>Gadget-X</td><td>19.99</td></tr><tr><td>Gadget</td><td>Gadget-Y</td><td>19.99</td></tr><tr><td>Widget</td><td>Widget-A</td><td>9.99</td></tr><tr><td>Widget</td><td>Widget-B</td><td>9.99</td></tr><tr><td>Widget</td><td>Widget-C</td><td>9.99</td></tr></tbody></table></div>"
      ]
     },
     "metadata": {
      "application/vnd.databricks.v1+output": {
       "addedWidgets": {},
       "aggData": [],
       "aggError": "",
       "aggOverflow": false,
       "aggSchema": [],
       "aggSeriesLimitReached": false,
       "aggType": "",
       "arguments": {},
       "columnCustomDisplayInfos": {},
       "data": [
        [
         "Doodad",
         "Doodad-1",
         4.99
        ],
        [
         "Doodad",
         "Doodad-2",
         4.99
        ],
        [
         "Doodad",
         "Doodad-3",
         4.99
        ],
        [
         "Gadget",
         null,
         19.99
        ],
        [
         "Gadget",
         "Gadget-X",
         19.99
        ],
        [
         "Gadget",
         "Gadget-Y",
         19.99
        ],
        [
         "Widget",
         "Widget-A",
         9.99
        ],
        [
         "Widget",
         "Widget-B",
         9.99
        ],
        [
         "Widget",
         "Widget-C",
         9.99
        ]
       ],
       "datasetInfos": [],
       "dbfsResultPath": null,
       "isJsonSchema": true,
       "metadata": {},
       "overflow": false,
       "plotOptions": {
        "customPlotOptions": {},
        "displayType": "table",
        "pivotAggregation": null,
        "pivotColumns": null,
        "xColumns": null,
        "yColumns": null
       },
       "removedWidgets": [],
       "schema": [
        {
         "metadata": "{}",
         "name": "category",
         "type": "\"string\""
        },
        {
         "metadata": "{}",
         "name": "product",
         "type": "\"string\""
        },
        {
         "metadata": "{}",
         "name": "avg_price",
         "type": "\"double\""
        }
       ],
       "type": "table"
      }
     },
     "output_type": "display_data"
    },
    {
     "output_type": "display_data",
     "data": {
      "text/html": [
       "<style scoped>\n",
       "  .table-result-container {\n",
       "    max-height: 300px;\n",
       "    overflow: auto;\n",
       "  }\n",
       "  table, th, td {\n",
       "    border: 1px solid black;\n",
       "    border-collapse: collapse;\n",
       "  }\n",
       "  th, td {\n",
       "    padding: 5px;\n",
       "  }\n",
       "  th {\n",
       "    text-align: left;\n",
       "  }\n",
       "</style><div class='table-result-container'><table class='table-result'><thead style='background-color: white'><tr><th>category</th><th>total_revenue</th></tr></thead><tbody><tr><td>Doodad</td><td>154.69000000000003</td></tr><tr><td>Gadget</td><td>1639.1800000000003</td></tr><tr><td>Widget</td><td>859.1400000000001</td></tr></tbody></table></div>"
      ]
     },
     "metadata": {
      "application/vnd.databricks.v1+output": {
       "addedWidgets": {},
       "aggData": [],
       "aggError": "",
       "aggOverflow": false,
       "aggSchema": [],
       "aggSeriesLimitReached": false,
       "aggType": "",
       "arguments": {},
       "columnCustomDisplayInfos": {},
       "data": [
        [
         "Doodad",
         154.69000000000003
        ],
        [
         "Gadget",
         1639.1800000000003
        ],
        [
         "Widget",
         859.1400000000001
        ]
       ],
       "datasetInfos": [],
       "dbfsResultPath": null,
       "isJsonSchema": true,
       "metadata": {},
       "overflow": false,
       "plotOptions": {
        "customPlotOptions": {},
        "displayType": "table",
        "pivotAggregation": null,
        "pivotColumns": null,
        "xColumns": null,
        "yColumns": null
       },
       "removedWidgets": [],
       "schema": [
        {
         "metadata": "{}",
         "name": "category",
         "type": "\"string\""
        },
        {
         "metadata": "{}",
         "name": "total_revenue",
         "type": "\"double\""
        }
       ],
       "type": "table"
      }
     },
     "output_type": "display_data"
    },
    {
     "output_type": "display_data",
     "data": {
      "text/html": [
       "<style scoped>\n",
       "  .table-result-container {\n",
       "    max-height: 300px;\n",
       "    overflow: auto;\n",
       "  }\n",
       "  table, th, td {\n",
       "    border: 1px solid black;\n",
       "    border-collapse: collapse;\n",
       "  }\n",
       "  th, td {\n",
       "    padding: 5px;\n",
       "  }\n",
       "  th {\n",
       "    text-align: left;\n",
       "  }\n",
       "</style><div class='table-result-container'><table class='table-result'><thead style='background-color: white'><tr><th>category</th><th>day_of_week</th><th>highest_sales</th></tr></thead><tbody><tr><td>Doodad</td><td>Wednesday</td><td>19.96</td></tr><tr><td>Gadget</td><td>Friday</td><td>179.91</td></tr><tr><td>Widget</td><td>Monday</td><td>99.9</td></tr></tbody></table></div>"
      ]
     },
     "metadata": {
      "application/vnd.databricks.v1+output": {
       "addedWidgets": {},
       "aggData": [],
       "aggError": "",
       "aggOverflow": false,
       "aggSchema": [],
       "aggSeriesLimitReached": false,
       "aggType": "",
       "arguments": {},
       "columnCustomDisplayInfos": {},
       "data": [
        [
         "Doodad",
         "Wednesday",
         19.96
        ],
        [
         "Gadget",
         "Friday",
         179.91
        ],
        [
         "Widget",
         "Monday",
         99.9
        ]
       ],
       "datasetInfos": [],
       "dbfsResultPath": null,
       "isJsonSchema": true,
       "metadata": {},
       "overflow": false,
       "plotOptions": {
        "customPlotOptions": {},
        "displayType": "table",
        "pivotAggregation": null,
        "pivotColumns": null,
        "xColumns": null,
        "yColumns": null
       },
       "removedWidgets": [],
       "schema": [
        {
         "metadata": "{}",
         "name": "category",
         "type": "\"string\""
        },
        {
         "metadata": "{}",
         "name": "day_of_week",
         "type": "\"string\""
        },
        {
         "metadata": "{}",
         "name": "highest_sales",
         "type": "\"double\""
        }
       ],
       "type": "table"
      }
     },
     "output_type": "display_data"
    }
   ],
   "source": [
    "# Average price per product in the category\n",
    "df_avg_price = df_flg.groupBy(\"category\", \"product\") \\\n",
    "    .agg({\"price\": \"avg\"}).withColumnRenamed(\"avg(price)\", \"avg_price\") \\\n",
    "        .orderBy(\"category\", \"product\")\n",
    "display(df_avg_price)\n",
    "\n",
    "# Total revenue for each category\n",
    "df_total_revenue = df_flg.groupBy(\"category\") \\\n",
    "    .agg({\"total_sales\": \"sum\"}).withColumnRenamed(\"sum(total_sales)\", \"total_revenue\") \\\n",
    "        .orderBy(\"category\")\n",
    "display(df_total_revenue)\n",
    "\n",
    "# Day with highest sales for the category\n",
    "\n",
    "window_spec = Window.partitionBy(\"category\").orderBy(col(\"total_sales\").desc())\n",
    "df_ranked = df_flg.withColumn(\"rank\", row_number().over(window_spec))\n",
    " \n",
    "df_max_sales = df_ranked.filter(col(\"rank\") == 1).select(\n",
    "    col(\"category\"), \n",
    "    col(\"day_of_week\"), \n",
    "    col(\"total_sales\").alias(\"highest_sales\")\n",
    "    )\n",
    "display(df_max_sales)\n",
    " \n"
   ]
  },
  {
   "cell_type": "markdown",
   "metadata": {
    "application/vnd.databricks.v1+cell": {
     "cellMetadata": {
      "byteLimit": 2048000,
      "rowLimit": 10000
     },
     "inputWidgets": {},
     "nuid": "0f95369c-a1cf-458d-b6c8-6f364be03616",
     "showTitle": false,
     "tableResultSettingsMap": {},
     "title": ""
    }
   },
   "source": [
    "> **Identify outliers in the data**"
   ]
  },
  {
   "cell_type": "code",
   "execution_count": 0,
   "metadata": {
    "application/vnd.databricks.v1+cell": {
     "cellMetadata": {
      "byteLimit": 2048000,
      "rowLimit": 10000
     },
     "inputWidgets": {},
     "nuid": "71eab619-75cd-4070-9244-09e8e195994e",
     "showTitle": false,
     "tableResultSettingsMap": {},
     "title": ""
    }
   },
   "outputs": [
    {
     "output_type": "stream",
     "name": "stdout",
     "output_type": "stream",
     "text": [
      "Transactions where quantity is more than 2 standard deviations from the category mean\n"
     ]
    },
    {
     "output_type": "display_data",
     "data": {
      "text/html": [
       "<style scoped>\n",
       "  .table-result-container {\n",
       "    max-height: 300px;\n",
       "    overflow: auto;\n",
       "  }\n",
       "  table, th, td {\n",
       "    border: 1px solid black;\n",
       "    border-collapse: collapse;\n",
       "  }\n",
       "  th, td {\n",
       "    padding: 5px;\n",
       "  }\n",
       "  th {\n",
       "    text-align: left;\n",
       "  }\n",
       "</style><div class='table-result-container'><table class='table-result'><thead style='background-color: white'><tr><th>category</th><th>transaction_id</th><th>date</th><th>product</th><th>quantity</th><th>price</th><th>avg_quantity</th><th>stddev_quantity</th><th>qty_diff</th><th>qty_threshold</th></tr></thead><tbody><tr><td>Widget</td><td>1</td><td>2024-07-01</td><td>Widget-A</td><td>10</td><td>9.99</td><td>5.0588235294117645</td><td>2.435944073539408</td><td>4.9411764705882355</td><td>4.871888147078816</td></tr></tbody></table></div>"
      ]
     },
     "metadata": {
      "application/vnd.databricks.v1+output": {
       "addedWidgets": {},
       "aggData": [],
       "aggError": "",
       "aggOverflow": false,
       "aggSchema": [],
       "aggSeriesLimitReached": false,
       "aggType": "",
       "arguments": {},
       "columnCustomDisplayInfos": {},
       "data": [
        [
         "Widget",
         1,
         "2024-07-01",
         "Widget-A",
         10,
         9.99,
         5.0588235294117645,
         2.435944073539408,
         4.9411764705882355,
         4.871888147078816
        ]
       ],
       "datasetInfos": [],
       "dbfsResultPath": null,
       "isJsonSchema": true,
       "metadata": {},
       "overflow": false,
       "plotOptions": {
        "customPlotOptions": {},
        "displayType": "table",
        "pivotAggregation": null,
        "pivotColumns": null,
        "xColumns": null,
        "yColumns": null
       },
       "removedWidgets": [],
       "schema": [
        {
         "metadata": "{}",
         "name": "category",
         "type": "\"string\""
        },
        {
         "metadata": "{}",
         "name": "transaction_id",
         "type": "\"integer\""
        },
        {
         "metadata": "{\"__detected_date_formats\":\"yyyy-M-d\"}",
         "name": "date",
         "type": "\"date\""
        },
        {
         "metadata": "{}",
         "name": "product",
         "type": "\"string\""
        },
        {
         "metadata": "{}",
         "name": "quantity",
         "type": "\"integer\""
        },
        {
         "metadata": "{}",
         "name": "price",
         "type": "\"double\""
        },
        {
         "metadata": "{}",
         "name": "avg_quantity",
         "type": "\"double\""
        },
        {
         "metadata": "{}",
         "name": "stddev_quantity",
         "type": "\"double\""
        },
        {
         "metadata": "{}",
         "name": "qty_diff",
         "type": "\"double\""
        },
        {
         "metadata": "{}",
         "name": "qty_threshold",
         "type": "\"double\""
        }
       ],
       "type": "table"
      }
     },
     "output_type": "display_data"
    },
    {
     "output_type": "stream",
     "name": "stdout",
     "output_type": "stream",
     "text": [
      "Mark these rows with an outlier flag\n"
     ]
    },
    {
     "output_type": "display_data",
     "data": {
      "text/html": [
       "<style scoped>\n",
       "  .table-result-container {\n",
       "    max-height: 300px;\n",
       "    overflow: auto;\n",
       "  }\n",
       "  table, th, td {\n",
       "    border: 1px solid black;\n",
       "    border-collapse: collapse;\n",
       "  }\n",
       "  th, td {\n",
       "    padding: 5px;\n",
       "  }\n",
       "  th {\n",
       "    text-align: left;\n",
       "  }\n",
       "</style><div class='table-result-container'><table class='table-result'><thead style='background-color: white'><tr><th>category</th><th>transaction_id</th><th>date</th><th>product</th><th>quantity</th><th>price</th><th>avg_quantity</th><th>stddev_quantity</th><th>qty_diff</th><th>qty_threshold</th><th>outlier_flag</th></tr></thead><tbody><tr><td>Doodad</td><td>12</td><td>2024-07-06</td><td>Doodad-3</td><td>1</td><td>4.99</td><td>2.5833333333333335</td><td>1.0836246694508314</td><td>1.5833333333333335</td><td>2.1672493389016627</td><td>false</td></tr><tr><td>Doodad</td><td>16</td><td>2024-07-08</td><td>Doodad-1</td><td>2</td><td>4.99</td><td>2.5833333333333335</td><td>1.0836246694508314</td><td>0.5833333333333335</td><td>2.1672493389016627</td><td>false</td></tr><tr><td>Doodad</td><td>19</td><td>2024-07-10</td><td>Doodad-2</td><td>4</td><td>4.99</td><td>2.5833333333333335</td><td>1.0836246694508314</td><td>1.4166666666666665</td><td>2.1672493389016627</td><td>false</td></tr><tr><td>Doodad</td><td>22</td><td>2024-07-11</td><td>Doodad-3</td><td>3</td><td>4.99</td><td>2.5833333333333335</td><td>1.0836246694508314</td><td>0.4166666666666665</td><td>2.1672493389016627</td><td>false</td></tr><tr><td>Doodad</td><td>25</td><td>2024-07-13</td><td>Doodad-1</td><td>2</td><td>4.99</td><td>2.5833333333333335</td><td>1.0836246694508314</td><td>0.5833333333333335</td><td>2.1672493389016627</td><td>false</td></tr><tr><td>Doodad</td><td>28</td><td>2024-07-14</td><td>Doodad-2</td><td>4</td><td>4.99</td><td>2.5833333333333335</td><td>1.0836246694508314</td><td>1.4166666666666665</td><td>2.1672493389016627</td><td>false</td></tr><tr><td>Doodad</td><td>31</td><td>2024-07-16</td><td>Doodad-3</td><td>1</td><td>4.99</td><td>2.5833333333333335</td><td>1.0836246694508314</td><td>1.5833333333333335</td><td>2.1672493389016627</td><td>false</td></tr><tr><td>Doodad</td><td>34</td><td>2024-07-17</td><td>Doodad-1</td><td>2</td><td>4.99</td><td>2.5833333333333335</td><td>1.0836246694508314</td><td>0.5833333333333335</td><td>2.1672493389016627</td><td>false</td></tr><tr><td>Doodad</td><td>37</td><td>2024-07-19</td><td>Doodad-2</td><td>3</td><td>4.99</td><td>2.5833333333333335</td><td>1.0836246694508314</td><td>0.4166666666666665</td><td>2.1672493389016627</td><td>false</td></tr><tr><td>Doodad</td><td>43</td><td>2024-07-22</td><td>Doodad-1</td><td>2</td><td>4.99</td><td>2.5833333333333335</td><td>1.0836246694508314</td><td>0.5833333333333335</td><td>2.1672493389016627</td><td>false</td></tr><tr><td>Doodad</td><td>46</td><td>2024-07-23</td><td>Doodad-2</td><td>3</td><td>4.99</td><td>2.5833333333333335</td><td>1.0836246694508314</td><td>0.4166666666666665</td><td>2.1672493389016627</td><td>false</td></tr><tr><td>Doodad</td><td>49</td><td>2024-07-25</td><td>Doodad-3</td><td>4</td><td>4.99</td><td>2.5833333333333335</td><td>1.0836246694508314</td><td>1.4166666666666665</td><td>2.1672493389016627</td><td>false</td></tr><tr><td>Gadget</td><td>2</td><td>2024-07-01</td><td>Gadget-X</td><td>5</td><td>19.99</td><td>5.857142857142857</td><td>1.9944979263017493</td><td>0.8571428571428568</td><td>3.9889958526034985</td><td>false</td></tr><tr><td>Gadget</td><td>6</td><td>2024-07-03</td><td>Gadget-Y</td><td>8</td><td>19.99</td><td>5.857142857142857</td><td>1.9944979263017493</td><td>2.1428571428571432</td><td>3.9889958526034985</td><td>false</td></tr><tr><td>Gadget</td><td>10</td><td>2024-07-05</td><td>Gadget-X</td><td>3</td><td>19.99</td><td>5.857142857142857</td><td>1.9944979263017493</td><td>2.8571428571428568</td><td>3.9889958526034985</td><td>false</td></tr><tr><td>Gadget</td><td>11</td><td>2024-07-06</td><td>null</td><td>5</td><td>19.99</td><td>5.857142857142857</td><td>1.9944979263017493</td><td>0.8571428571428568</td><td>3.9889958526034985</td><td>false</td></tr><tr><td>Gadget</td><td>14</td><td>2024-07-07</td><td>Gadget-Y</td><td>4</td><td>19.99</td><td>5.857142857142857</td><td>1.9944979263017493</td><td>1.8571428571428568</td><td>3.9889958526034985</td><td>false</td></tr><tr><td>Gadget</td><td>20</td><td>2024-07-10</td><td>Gadget-Y</td><td>7</td><td>19.99</td><td>5.857142857142857</td><td>1.9944979263017493</td><td>1.1428571428571432</td><td>3.9889958526034985</td><td>false</td></tr><tr><td>Gadget</td><td>23</td><td>2024-07-12</td><td>Gadget-X</td><td>9</td><td>19.99</td><td>5.857142857142857</td><td>1.9944979263017493</td><td>3.1428571428571432</td><td>3.9889958526034985</td><td>false</td></tr><tr><td>Gadget</td><td>26</td><td>2024-07-13</td><td>Gadget-Y</td><td>5</td><td>19.99</td><td>5.857142857142857</td><td>1.9944979263017493</td><td>0.8571428571428568</td><td>3.9889958526034985</td><td>false</td></tr><tr><td>Gadget</td><td>29</td><td>2024-07-15</td><td>Gadget-X</td><td>7</td><td>19.99</td><td>5.857142857142857</td><td>1.9944979263017493</td><td>1.1428571428571432</td><td>3.9889958526034985</td><td>false</td></tr><tr><td>Gadget</td><td>35</td><td>2024-07-18</td><td>Gadget-X</td><td>6</td><td>19.99</td><td>5.857142857142857</td><td>1.9944979263017493</td><td>0.14285714285714324</td><td>3.9889958526034985</td><td>false</td></tr><tr><td>Gadget</td><td>38</td><td>2024-07-19</td><td>Gadget-Y</td><td>2</td><td>19.99</td><td>5.857142857142857</td><td>1.9944979263017493</td><td>3.8571428571428568</td><td>3.9889958526034985</td><td>false</td></tr><tr><td>Gadget</td><td>41</td><td>2024-07-21</td><td>Gadget-X</td><td>7</td><td>19.99</td><td>5.857142857142857</td><td>1.9944979263017493</td><td>1.1428571428571432</td><td>3.9889958526034985</td><td>false</td></tr><tr><td>Gadget</td><td>44</td><td>2024-07-22</td><td>Gadget-Y</td><td>6</td><td>19.99</td><td>5.857142857142857</td><td>1.9944979263017493</td><td>0.14285714285714324</td><td>3.9889958526034985</td><td>false</td></tr><tr><td>Gadget</td><td>50</td><td>2024-07-25</td><td>Gadget-Y</td><td>8</td><td>19.99</td><td>5.857142857142857</td><td>1.9944979263017493</td><td>2.1428571428571432</td><td>3.9889958526034985</td><td>false</td></tr><tr><td>Widget</td><td>1</td><td>2024-07-01</td><td>Widget-A</td><td>10</td><td>9.99</td><td>5.0588235294117645</td><td>2.435944073539408</td><td>4.9411764705882355</td><td>4.871888147078816</td><td>true</td></tr><tr><td>Widget</td><td>3</td><td>2024-07-02</td><td>Widget-B</td><td>7</td><td>9.99</td><td>5.0588235294117645</td><td>2.435944073539408</td><td>1.9411764705882355</td><td>4.871888147078816</td><td>false</td></tr><tr><td>Widget</td><td>5</td><td>2024-07-03</td><td>Widget-C</td><td>3</td><td>9.99</td><td>5.0588235294117645</td><td>2.435944073539408</td><td>2.0588235294117645</td><td>4.871888147078816</td><td>false</td></tr><tr><td>Widget</td><td>7</td><td>2024-07-04</td><td>Widget-A</td><td>2</td><td>9.99</td><td>5.0588235294117645</td><td>2.435944073539408</td><td>3.0588235294117645</td><td>4.871888147078816</td><td>false</td></tr><tr><td>Widget</td><td>9</td><td>2024-07-05</td><td>Widget-B</td><td>6</td><td>9.99</td><td>5.0588235294117645</td><td>2.435944073539408</td><td>0.9411764705882355</td><td>4.871888147078816</td><td>false</td></tr><tr><td>Widget</td><td>13</td><td>2024-07-07</td><td>Widget-C</td><td>8</td><td>9.99</td><td>5.0588235294117645</td><td>2.435944073539408</td><td>2.9411764705882355</td><td>4.871888147078816</td><td>false</td></tr><tr><td>Widget</td><td>15</td><td>2024-07-08</td><td>Widget-A</td><td>3</td><td>9.99</td><td>5.0588235294117645</td><td>2.435944073539408</td><td>2.0588235294117645</td><td>4.871888147078816</td><td>false</td></tr><tr><td>Widget</td><td>18</td><td>2024-07-09</td><td>Widget-B</td><td>5</td><td>9.99</td><td>5.0588235294117645</td><td>2.435944073539408</td><td>0.0588235294117645</td><td>4.871888147078816</td><td>false</td></tr><tr><td>Widget</td><td>21</td><td>2024-07-11</td><td>Widget-C</td><td>6</td><td>9.99</td><td>5.0588235294117645</td><td>2.435944073539408</td><td>0.9411764705882355</td><td>4.871888147078816</td><td>false</td></tr><tr><td>Widget</td><td>24</td><td>2024-07-12</td><td>Widget-A</td><td>1</td><td>9.99</td><td>5.0588235294117645</td><td>2.435944073539408</td><td>4.0588235294117645</td><td>4.871888147078816</td><td>false</td></tr><tr><td>Widget</td><td>30</td><td>2024-07-15</td><td>Widget-C</td><td>3</td><td>9.99</td><td>5.0588235294117645</td><td>2.435944073539408</td><td>2.0588235294117645</td><td>4.871888147078816</td><td>false</td></tr><tr><td>Widget</td><td>33</td><td>2024-07-17</td><td>Widget-A</td><td>8</td><td>9.99</td><td>5.0588235294117645</td><td>2.435944073539408</td><td>2.9411764705882355</td><td>4.871888147078816</td><td>false</td></tr><tr><td>Widget</td><td>36</td><td>2024-07-18</td><td>Widget-B</td><td>4</td><td>9.99</td><td>5.0588235294117645</td><td>2.435944073539408</td><td>1.0588235294117645</td><td>4.871888147078816</td><td>false</td></tr><tr><td>Widget</td><td>39</td><td>2024-07-20</td><td>Widget-C</td><td>5</td><td>9.99</td><td>5.0588235294117645</td><td>2.435944073539408</td><td>0.0588235294117645</td><td>4.871888147078816</td><td>false</td></tr><tr><td>Widget</td><td>42</td><td>2024-07-21</td><td>Widget-A</td><td>3</td><td>9.99</td><td>5.0588235294117645</td><td>2.435944073539408</td><td>2.0588235294117645</td><td>4.871888147078816</td><td>false</td></tr><tr><td>Widget</td><td>45</td><td>2024-07-23</td><td>Widget-B</td><td>7</td><td>9.99</td><td>5.0588235294117645</td><td>2.435944073539408</td><td>1.9411764705882355</td><td>4.871888147078816</td><td>false</td></tr><tr><td>Widget</td><td>48</td><td>2024-07-24</td><td>Widget-C</td><td>5</td><td>9.99</td><td>5.0588235294117645</td><td>2.435944073539408</td><td>0.0588235294117645</td><td>4.871888147078816</td><td>false</td></tr></tbody></table></div>"
      ]
     },
     "metadata": {
      "application/vnd.databricks.v1+output": {
       "addedWidgets": {},
       "aggData": [],
       "aggError": "",
       "aggOverflow": false,
       "aggSchema": [],
       "aggSeriesLimitReached": false,
       "aggType": "",
       "arguments": {},
       "columnCustomDisplayInfos": {},
       "data": [
        [
         "Doodad",
         12,
         "2024-07-06",
         "Doodad-3",
         1,
         4.99,
         2.5833333333333335,
         1.0836246694508314,
         1.5833333333333335,
         2.1672493389016627,
         false
        ],
        [
         "Doodad",
         16,
         "2024-07-08",
         "Doodad-1",
         2,
         4.99,
         2.5833333333333335,
         1.0836246694508314,
         0.5833333333333335,
         2.1672493389016627,
         false
        ],
        [
         "Doodad",
         19,
         "2024-07-10",
         "Doodad-2",
         4,
         4.99,
         2.5833333333333335,
         1.0836246694508314,
         1.4166666666666665,
         2.1672493389016627,
         false
        ],
        [
         "Doodad",
         22,
         "2024-07-11",
         "Doodad-3",
         3,
         4.99,
         2.5833333333333335,
         1.0836246694508314,
         0.4166666666666665,
         2.1672493389016627,
         false
        ],
        [
         "Doodad",
         25,
         "2024-07-13",
         "Doodad-1",
         2,
         4.99,
         2.5833333333333335,
         1.0836246694508314,
         0.5833333333333335,
         2.1672493389016627,
         false
        ],
        [
         "Doodad",
         28,
         "2024-07-14",
         "Doodad-2",
         4,
         4.99,
         2.5833333333333335,
         1.0836246694508314,
         1.4166666666666665,
         2.1672493389016627,
         false
        ],
        [
         "Doodad",
         31,
         "2024-07-16",
         "Doodad-3",
         1,
         4.99,
         2.5833333333333335,
         1.0836246694508314,
         1.5833333333333335,
         2.1672493389016627,
         false
        ],
        [
         "Doodad",
         34,
         "2024-07-17",
         "Doodad-1",
         2,
         4.99,
         2.5833333333333335,
         1.0836246694508314,
         0.5833333333333335,
         2.1672493389016627,
         false
        ],
        [
         "Doodad",
         37,
         "2024-07-19",
         "Doodad-2",
         3,
         4.99,
         2.5833333333333335,
         1.0836246694508314,
         0.4166666666666665,
         2.1672493389016627,
         false
        ],
        [
         "Doodad",
         43,
         "2024-07-22",
         "Doodad-1",
         2,
         4.99,
         2.5833333333333335,
         1.0836246694508314,
         0.5833333333333335,
         2.1672493389016627,
         false
        ],
        [
         "Doodad",
         46,
         "2024-07-23",
         "Doodad-2",
         3,
         4.99,
         2.5833333333333335,
         1.0836246694508314,
         0.4166666666666665,
         2.1672493389016627,
         false
        ],
        [
         "Doodad",
         49,
         "2024-07-25",
         "Doodad-3",
         4,
         4.99,
         2.5833333333333335,
         1.0836246694508314,
         1.4166666666666665,
         2.1672493389016627,
         false
        ],
        [
         "Gadget",
         2,
         "2024-07-01",
         "Gadget-X",
         5,
         19.99,
         5.857142857142857,
         1.9944979263017493,
         0.8571428571428568,
         3.9889958526034985,
         false
        ],
        [
         "Gadget",
         6,
         "2024-07-03",
         "Gadget-Y",
         8,
         19.99,
         5.857142857142857,
         1.9944979263017493,
         2.1428571428571432,
         3.9889958526034985,
         false
        ],
        [
         "Gadget",
         10,
         "2024-07-05",
         "Gadget-X",
         3,
         19.99,
         5.857142857142857,
         1.9944979263017493,
         2.8571428571428568,
         3.9889958526034985,
         false
        ],
        [
         "Gadget",
         11,
         "2024-07-06",
         null,
         5,
         19.99,
         5.857142857142857,
         1.9944979263017493,
         0.8571428571428568,
         3.9889958526034985,
         false
        ],
        [
         "Gadget",
         14,
         "2024-07-07",
         "Gadget-Y",
         4,
         19.99,
         5.857142857142857,
         1.9944979263017493,
         1.8571428571428568,
         3.9889958526034985,
         false
        ],
        [
         "Gadget",
         20,
         "2024-07-10",
         "Gadget-Y",
         7,
         19.99,
         5.857142857142857,
         1.9944979263017493,
         1.1428571428571432,
         3.9889958526034985,
         false
        ],
        [
         "Gadget",
         23,
         "2024-07-12",
         "Gadget-X",
         9,
         19.99,
         5.857142857142857,
         1.9944979263017493,
         3.1428571428571432,
         3.9889958526034985,
         false
        ],
        [
         "Gadget",
         26,
         "2024-07-13",
         "Gadget-Y",
         5,
         19.99,
         5.857142857142857,
         1.9944979263017493,
         0.8571428571428568,
         3.9889958526034985,
         false
        ],
        [
         "Gadget",
         29,
         "2024-07-15",
         "Gadget-X",
         7,
         19.99,
         5.857142857142857,
         1.9944979263017493,
         1.1428571428571432,
         3.9889958526034985,
         false
        ],
        [
         "Gadget",
         35,
         "2024-07-18",
         "Gadget-X",
         6,
         19.99,
         5.857142857142857,
         1.9944979263017493,
         0.14285714285714324,
         3.9889958526034985,
         false
        ],
        [
         "Gadget",
         38,
         "2024-07-19",
         "Gadget-Y",
         2,
         19.99,
         5.857142857142857,
         1.9944979263017493,
         3.8571428571428568,
         3.9889958526034985,
         false
        ],
        [
         "Gadget",
         41,
         "2024-07-21",
         "Gadget-X",
         7,
         19.99,
         5.857142857142857,
         1.9944979263017493,
         1.1428571428571432,
         3.9889958526034985,
         false
        ],
        [
         "Gadget",
         44,
         "2024-07-22",
         "Gadget-Y",
         6,
         19.99,
         5.857142857142857,
         1.9944979263017493,
         0.14285714285714324,
         3.9889958526034985,
         false
        ],
        [
         "Gadget",
         50,
         "2024-07-25",
         "Gadget-Y",
         8,
         19.99,
         5.857142857142857,
         1.9944979263017493,
         2.1428571428571432,
         3.9889958526034985,
         false
        ],
        [
         "Widget",
         1,
         "2024-07-01",
         "Widget-A",
         10,
         9.99,
         5.0588235294117645,
         2.435944073539408,
         4.9411764705882355,
         4.871888147078816,
         true
        ],
        [
         "Widget",
         3,
         "2024-07-02",
         "Widget-B",
         7,
         9.99,
         5.0588235294117645,
         2.435944073539408,
         1.9411764705882355,
         4.871888147078816,
         false
        ],
        [
         "Widget",
         5,
         "2024-07-03",
         "Widget-C",
         3,
         9.99,
         5.0588235294117645,
         2.435944073539408,
         2.0588235294117645,
         4.871888147078816,
         false
        ],
        [
         "Widget",
         7,
         "2024-07-04",
         "Widget-A",
         2,
         9.99,
         5.0588235294117645,
         2.435944073539408,
         3.0588235294117645,
         4.871888147078816,
         false
        ],
        [
         "Widget",
         9,
         "2024-07-05",
         "Widget-B",
         6,
         9.99,
         5.0588235294117645,
         2.435944073539408,
         0.9411764705882355,
         4.871888147078816,
         false
        ],
        [
         "Widget",
         13,
         "2024-07-07",
         "Widget-C",
         8,
         9.99,
         5.0588235294117645,
         2.435944073539408,
         2.9411764705882355,
         4.871888147078816,
         false
        ],
        [
         "Widget",
         15,
         "2024-07-08",
         "Widget-A",
         3,
         9.99,
         5.0588235294117645,
         2.435944073539408,
         2.0588235294117645,
         4.871888147078816,
         false
        ],
        [
         "Widget",
         18,
         "2024-07-09",
         "Widget-B",
         5,
         9.99,
         5.0588235294117645,
         2.435944073539408,
         0.0588235294117645,
         4.871888147078816,
         false
        ],
        [
         "Widget",
         21,
         "2024-07-11",
         "Widget-C",
         6,
         9.99,
         5.0588235294117645,
         2.435944073539408,
         0.9411764705882355,
         4.871888147078816,
         false
        ],
        [
         "Widget",
         24,
         "2024-07-12",
         "Widget-A",
         1,
         9.99,
         5.0588235294117645,
         2.435944073539408,
         4.0588235294117645,
         4.871888147078816,
         false
        ],
        [
         "Widget",
         30,
         "2024-07-15",
         "Widget-C",
         3,
         9.99,
         5.0588235294117645,
         2.435944073539408,
         2.0588235294117645,
         4.871888147078816,
         false
        ],
        [
         "Widget",
         33,
         "2024-07-17",
         "Widget-A",
         8,
         9.99,
         5.0588235294117645,
         2.435944073539408,
         2.9411764705882355,
         4.871888147078816,
         false
        ],
        [
         "Widget",
         36,
         "2024-07-18",
         "Widget-B",
         4,
         9.99,
         5.0588235294117645,
         2.435944073539408,
         1.0588235294117645,
         4.871888147078816,
         false
        ],
        [
         "Widget",
         39,
         "2024-07-20",
         "Widget-C",
         5,
         9.99,
         5.0588235294117645,
         2.435944073539408,
         0.0588235294117645,
         4.871888147078816,
         false
        ],
        [
         "Widget",
         42,
         "2024-07-21",
         "Widget-A",
         3,
         9.99,
         5.0588235294117645,
         2.435944073539408,
         2.0588235294117645,
         4.871888147078816,
         false
        ],
        [
         "Widget",
         45,
         "2024-07-23",
         "Widget-B",
         7,
         9.99,
         5.0588235294117645,
         2.435944073539408,
         1.9411764705882355,
         4.871888147078816,
         false
        ],
        [
         "Widget",
         48,
         "2024-07-24",
         "Widget-C",
         5,
         9.99,
         5.0588235294117645,
         2.435944073539408,
         0.0588235294117645,
         4.871888147078816,
         false
        ]
       ],
       "datasetInfos": [],
       "dbfsResultPath": null,
       "isJsonSchema": true,
       "metadata": {},
       "overflow": false,
       "plotOptions": {
        "customPlotOptions": {},
        "displayType": "table",
        "pivotAggregation": null,
        "pivotColumns": null,
        "xColumns": null,
        "yColumns": null
       },
       "removedWidgets": [],
       "schema": [
        {
         "metadata": "{}",
         "name": "category",
         "type": "\"string\""
        },
        {
         "metadata": "{}",
         "name": "transaction_id",
         "type": "\"integer\""
        },
        {
         "metadata": "{\"__detected_date_formats\":\"yyyy-M-d\"}",
         "name": "date",
         "type": "\"date\""
        },
        {
         "metadata": "{}",
         "name": "product",
         "type": "\"string\""
        },
        {
         "metadata": "{}",
         "name": "quantity",
         "type": "\"integer\""
        },
        {
         "metadata": "{}",
         "name": "price",
         "type": "\"double\""
        },
        {
         "metadata": "{}",
         "name": "avg_quantity",
         "type": "\"double\""
        },
        {
         "metadata": "{}",
         "name": "stddev_quantity",
         "type": "\"double\""
        },
        {
         "metadata": "{}",
         "name": "qty_diff",
         "type": "\"double\""
        },
        {
         "metadata": "{}",
         "name": "qty_threshold",
         "type": "\"double\""
        },
        {
         "metadata": "{}",
         "name": "outlier_flag",
         "type": "\"boolean\""
        }
       ],
       "type": "table"
      }
     },
     "output_type": "display_data"
    }
   ],
   "source": [
    "# 1. Transactions where quantity is more than 2 standard deviations from the category mean\n",
    "print(\"Transactions where quantity is more than 2 standard deviations from the category mean\")\n",
    "\n",
    "# Generating the stats (mean and standard deviation) grouped by category\n",
    "df_stats = df_cleaned.groupBy(\"category\") \\\n",
    "    .agg(\n",
    "        mean(\"quantity\").alias(\"avg_quantity\"), \n",
    "        stddev(\"quantity\").alias(\"stddev_quantity\"))\n",
    "\n",
    "# Joining the stats to the original data \n",
    "df_joined_stats = df_cleaned.alias(\"a\").join(df_stats.alias(\"b\"), \"category\", \"outer\")\n",
    "\n",
    "# display(df_stats)\n",
    "# display(df_joined_stats)\n",
    "\n",
    "# Calculating the difference between the quantity and the mean quantity for each row and the threshold to be compared to (I generated these as 2 new columns in order to verify the output is correct)\n",
    "df_outliers = df_joined_stats.select(\n",
    "    \"*\",\n",
    "    lit(abs(col(\"quantity\") - col(\"avg_quantity\"))).alias(\"qty_diff\"),\n",
    "    lit(2 * col(\"stddev_quantity\")).alias(\"qty_threshold\")\n",
    ")\n",
    "\n",
    "# OUTPUT:\n",
    "df_outliers_filtered = df_outliers.filter(col(\"qty_diff\") > col(\"qty_threshold\"))\n",
    "display(df_outliers_filtered)\n",
    "\n",
    "\n",
    "\n",
    "\n",
    "# 2. Mark these rows with an outlier flag\n",
    "print(\"Mark these rows with an outlier flag\")\n",
    "\n",
    "df_outliers_flg = df_outliers.select(\n",
    "    \"*\",\n",
    "    when(col(\"qty_diff\") > col(\"qty_threshold\"), True).otherwise(False).alias(\"outlier_flag\")\n",
    ")\n",
    "\n",
    "display(df_outliers_flg)\n",
    "\n",
    "\n",
    "\n"
   ]
  },
  {
   "cell_type": "markdown",
   "metadata": {
    "application/vnd.databricks.v1+cell": {
     "cellMetadata": {
      "byteLimit": 2048000,
      "rowLimit": 10000
     },
     "inputWidgets": {},
     "nuid": "e673b73f-9465-4aca-b3e4-4d85edf1e04c",
     "showTitle": false,
     "tableResultSettingsMap": {},
     "title": ""
    }
   },
   "source": [
    "## 4. STORAGE"
   ]
  },
  {
   "cell_type": "markdown",
   "metadata": {
    "application/vnd.databricks.v1+cell": {
     "cellMetadata": {
      "byteLimit": 2048000,
      "rowLimit": 10000
     },
     "inputWidgets": {},
     "nuid": "10644ca1-992a-491c-885a-6ede4b4b4f92",
     "showTitle": false,
     "tableResultSettingsMap": {},
     "title": ""
    }
   },
   "source": [
    "> **Store the cleaned and processed data in a SQLite database with separate tables for:**\n",
    "\n",
    "• Transactions\n",
    "• Aggregated metrics by category\n",
    "• Outliers"
   ]
  },
  {
   "cell_type": "code",
   "execution_count": 0,
   "metadata": {
    "application/vnd.databricks.v1+cell": {
     "cellMetadata": {
      "byteLimit": 2048000,
      "rowLimit": 10000
     },
     "inputWidgets": {},
     "nuid": "bd82bb99-1479-4d5c-be10-8c36df0f1d44",
     "showTitle": false,
     "tableResultSettingsMap": {},
     "title": ""
    }
   },
   "outputs": [],
   "source": [
    "# Importar librerías necesarias\n",
    "import os\n",
    "import sqlite3\n",
    "import pandas as pd\n",
    " \n",
    "# Transactions\n",
    "df_transactions_pd = df_cleaned.toPandas()\n",
    "\n",
    "# Aggregated metrics by category\n",
    "df_aggregated_pd = df_flg.toPandas()\n",
    "\n",
    "# Outliers\n",
    "df_outliers_pd = df_outliers_flg.toPandas()\n",
    " \n",
    "# Conectar a la base de datos SQLite (o crearla si no existe)\n",
    "db_dir = '/tmp/mydata/'\n",
    "if not os.path.exists(db_dir):\n",
    "    os.makedirs(db_dir)\n",
    "\n",
    "conn = sqlite3.connect(\"/tmp/mydata/sales_data.db\")\n",
    "cursor = conn.cursor()\n",
    " \n",
    "# Escribir el DataFrame en una tabla SQLite\n",
    "df_transactions_pd.to_sql(\"transactions_table\", conn, if_exists=\"replace\", index=False)\n",
    "df_aggregated_pd.to_sql(\"aggregated_table\", conn, if_exists=\"replace\", index=False)\n",
    "df_outliers_pd.to_sql(\"outliers_table\", conn, if_exists=\"replace\", index=False)\n",
    " \n",
    "# Cerrar la conexión\n",
    "conn.close()"
   ]
  },
  {
   "cell_type": "code",
   "execution_count": 0,
   "metadata": {
    "application/vnd.databricks.v1+cell": {
     "cellMetadata": {
      "byteLimit": 2048000,
      "rowLimit": 10000
     },
     "inputWidgets": {},
     "nuid": "eaa3cd66-7334-4e84-b4a3-956f98f920d3",
     "showTitle": false,
     "tableResultSettingsMap": {},
     "title": ""
    }
   },
   "outputs": [
    {
     "output_type": "stream",
     "name": "stdout",
     "output_type": "stream",
     "text": [
      "[('transactions_table',), ('aggregated_table',), ('outliers_table',)]\n"
     ]
    }
   ],
   "source": [
    "conn = sqlite3.connect(\"/tmp/mydata/sales_data.db\")\n",
    "cursor = conn.cursor()\n",
    "\n",
    "cursor.execute(\"SELECT name FROM sqlite_master WHERE type='table';\")\n",
    "print(cursor.fetchall())"
   ]
  },
  {
   "cell_type": "code",
   "execution_count": 0,
   "metadata": {
    "application/vnd.databricks.v1+cell": {
     "cellMetadata": {
      "byteLimit": 2048000,
      "rowLimit": 10000
     },
     "inputWidgets": {},
     "nuid": "fce9cb66-a96a-43b5-ac99-aa0192d13b8c",
     "showTitle": false,
     "tableResultSettingsMap": {},
     "title": ""
    }
   },
   "outputs": [
    {
     "output_type": "stream",
     "name": "stdout",
     "output_type": "stream",
     "text": [
      "TABLA transactions_table:\n(1, '2024-07-01', 'Widget', 'Widget-A', 10, 9.99)\n(2, '2024-07-01', 'Gadget', 'Gadget-X', 5, 19.99)\n(3, '2024-07-02', 'Widget', 'Widget-B', 7, 9.99)\n(5, '2024-07-03', 'Widget', 'Widget-C', 3, 9.99)\n(6, '2024-07-03', 'Gadget', 'Gadget-Y', 8, 19.99)\n(7, '2024-07-04', 'Widget', 'Widget-A', 2, 9.99)\n(9, '2024-07-05', 'Widget', 'Widget-B', 6, 9.99)\n(10, '2024-07-05', 'Gadget', 'Gadget-X', 3, 19.99)\n(11, '2024-07-06', 'Gadget', None, 5, 19.99)\n(12, '2024-07-06', 'Doodad', 'Doodad-3', 1, 4.99)\n(13, '2024-07-07', 'Widget', 'Widget-C', 8, 9.99)\n(14, '2024-07-07', 'Gadget', 'Gadget-Y', 4, 19.99)\n(15, '2024-07-08', 'Widget', 'Widget-A', 3, 9.99)\n(16, '2024-07-08', 'Doodad', 'Doodad-1', 2, 4.99)\n(18, '2024-07-09', 'Widget', 'Widget-B', 5, 9.99)\n(19, '2024-07-10', 'Doodad', 'Doodad-2', 4, 4.99)\n(20, '2024-07-10', 'Gadget', 'Gadget-Y', 7, 19.99)\n(21, '2024-07-11', 'Widget', 'Widget-C', 6, 9.99)\n(22, '2024-07-11', 'Doodad', 'Doodad-3', 3, 4.99)\n(23, '2024-07-12', 'Gadget', 'Gadget-X', 9, 19.99)\n(24, '2024-07-12', 'Widget', 'Widget-A', 1, 9.99)\n(25, '2024-07-13', 'Doodad', 'Doodad-1', 2, 4.99)\n(26, '2024-07-13', 'Gadget', 'Gadget-Y', 5, 19.99)\n(28, '2024-07-14', 'Doodad', 'Doodad-2', 4, 4.99)\n(29, '2024-07-15', 'Gadget', 'Gadget-X', 7, 19.99)\n(30, '2024-07-15', 'Widget', 'Widget-C', 3, 9.99)\n(31, '2024-07-16', 'Doodad', 'Doodad-3', 1, 4.99)\n(33, '2024-07-17', 'Widget', 'Widget-A', 8, 9.99)\n(34, '2024-07-17', 'Doodad', 'Doodad-1', 2, 4.99)\n(35, '2024-07-18', 'Gadget', 'Gadget-X', 6, 19.99)\n(36, '2024-07-18', 'Widget', 'Widget-B', 4, 9.99)\n(37, '2024-07-19', 'Doodad', 'Doodad-2', 3, 4.99)\n(38, '2024-07-19', 'Gadget', 'Gadget-Y', 2, 19.99)\n(39, '2024-07-20', 'Widget', 'Widget-C', 5, 9.99)\n(41, '2024-07-21', 'Gadget', 'Gadget-X', 7, 19.99)\n(42, '2024-07-21', 'Widget', 'Widget-A', 3, 9.99)\n(43, '2024-07-22', 'Doodad', 'Doodad-1', 2, 4.99)\n(44, '2024-07-22', 'Gadget', 'Gadget-Y', 6, 19.99)\n(45, '2024-07-23', 'Widget', 'Widget-B', 7, 9.99)\n(46, '2024-07-23', 'Doodad', 'Doodad-2', 3, 4.99)\n(48, '2024-07-24', 'Widget', 'Widget-C', 5, 9.99)\n(49, '2024-07-25', 'Doodad', 'Doodad-3', 4, 4.99)\n(50, '2024-07-25', 'Gadget', 'Gadget-Y', 8, 19.99)\n"
     ]
    }
   ],
   "source": [
    "cursor.execute(\"SELECT * FROM transactions_table;\")\n",
    "rows = cursor.fetchall()\n",
    "\n",
    "print(\"TABLA transactions_table:\")\n",
    "for row in rows:\n",
    "    print(row)"
   ]
  },
  {
   "cell_type": "code",
   "execution_count": 0,
   "metadata": {
    "application/vnd.databricks.v1+cell": {
     "cellMetadata": {
      "byteLimit": 2048000,
      "rowLimit": 10000
     },
     "inputWidgets": {},
     "nuid": "d7711d0e-ab4b-46f0-8687-24642fbd139c",
     "showTitle": false,
     "tableResultSettingsMap": {},
     "title": ""
    }
   },
   "outputs": [
    {
     "output_type": "stream",
     "name": "stdout",
     "output_type": "stream",
     "text": [
      "TABLA aggregated_table:\n(1, '2024-07-01', 'Widget', 'Widget-A', 10, 9.99, 99.9, 'Monday', 0)\n(2, '2024-07-01', 'Gadget', 'Gadget-X', 5, 19.99, 99.94999999999999, 'Monday', 0)\n(3, '2024-07-02', 'Widget', 'Widget-B', 7, 9.99, 69.93, 'Tuesday', 0)\n(5, '2024-07-03', 'Widget', 'Widget-C', 3, 9.99, 29.97, 'Wednesday', 0)\n(6, '2024-07-03', 'Gadget', 'Gadget-Y', 8, 19.99, 159.92, 'Wednesday', 0)\n(7, '2024-07-04', 'Widget', 'Widget-A', 2, 9.99, 19.98, 'Thursday', 0)\n(9, '2024-07-05', 'Widget', 'Widget-B', 6, 9.99, 59.94, 'Friday', 0)\n(10, '2024-07-05', 'Gadget', 'Gadget-X', 3, 19.99, 59.97, 'Friday', 0)\n(11, '2024-07-06', 'Gadget', None, 5, 19.99, 99.94999999999999, 'Saturday', 0)\n(12, '2024-07-06', 'Doodad', 'Doodad-3', 1, 4.99, 4.99, 'Saturday', 0)\n(13, '2024-07-07', 'Widget', 'Widget-C', 8, 9.99, 79.92, 'Sunday', 0)\n(14, '2024-07-07', 'Gadget', 'Gadget-Y', 4, 19.99, 79.96, 'Sunday', 0)\n(15, '2024-07-08', 'Widget', 'Widget-A', 3, 9.99, 29.97, 'Monday', 0)\n(16, '2024-07-08', 'Doodad', 'Doodad-1', 2, 4.99, 9.98, 'Monday', 0)\n(18, '2024-07-09', 'Widget', 'Widget-B', 5, 9.99, 49.95, 'Tuesday', 0)\n(19, '2024-07-10', 'Doodad', 'Doodad-2', 4, 4.99, 19.96, 'Wednesday', 0)\n(20, '2024-07-10', 'Gadget', 'Gadget-Y', 7, 19.99, 139.92999999999998, 'Wednesday', 0)\n(21, '2024-07-11', 'Widget', 'Widget-C', 6, 9.99, 59.94, 'Thursday', 0)\n(22, '2024-07-11', 'Doodad', 'Doodad-3', 3, 4.99, 14.97, 'Thursday', 0)\n(23, '2024-07-12', 'Gadget', 'Gadget-X', 9, 19.99, 179.91, 'Friday', 0)\n(24, '2024-07-12', 'Widget', 'Widget-A', 1, 9.99, 9.99, 'Friday', 0)\n(25, '2024-07-13', 'Doodad', 'Doodad-1', 2, 4.99, 9.98, 'Saturday', 0)\n(26, '2024-07-13', 'Gadget', 'Gadget-Y', 5, 19.99, 99.94999999999999, 'Saturday', 0)\n(28, '2024-07-14', 'Doodad', 'Doodad-2', 4, 4.99, 19.96, 'Sunday', 0)\n(29, '2024-07-15', 'Gadget', 'Gadget-X', 7, 19.99, 139.92999999999998, 'Monday', 0)\n(30, '2024-07-15', 'Widget', 'Widget-C', 3, 9.99, 29.97, 'Monday', 0)\n(31, '2024-07-16', 'Doodad', 'Doodad-3', 1, 4.99, 4.99, 'Tuesday', 0)\n(33, '2024-07-17', 'Widget', 'Widget-A', 8, 9.99, 79.92, 'Wednesday', 0)\n(34, '2024-07-17', 'Doodad', 'Doodad-1', 2, 4.99, 9.98, 'Wednesday', 0)\n(35, '2024-07-18', 'Gadget', 'Gadget-X', 6, 19.99, 119.94, 'Thursday', 0)\n(36, '2024-07-18', 'Widget', 'Widget-B', 4, 9.99, 39.96, 'Thursday', 0)\n(37, '2024-07-19', 'Doodad', 'Doodad-2', 3, 4.99, 14.97, 'Friday', 0)\n(38, '2024-07-19', 'Gadget', 'Gadget-Y', 2, 19.99, 39.98, 'Friday', 0)\n(39, '2024-07-20', 'Widget', 'Widget-C', 5, 9.99, 49.95, 'Saturday', 0)\n(41, '2024-07-21', 'Gadget', 'Gadget-X', 7, 19.99, 139.92999999999998, 'Sunday', 0)\n(42, '2024-07-21', 'Widget', 'Widget-A', 3, 9.99, 29.97, 'Sunday', 0)\n(43, '2024-07-22', 'Doodad', 'Doodad-1', 2, 4.99, 9.98, 'Monday', 0)\n(44, '2024-07-22', 'Gadget', 'Gadget-Y', 6, 19.99, 119.94, 'Monday', 0)\n(45, '2024-07-23', 'Widget', 'Widget-B', 7, 9.99, 69.93, 'Tuesday', 0)\n(46, '2024-07-23', 'Doodad', 'Doodad-2', 3, 4.99, 14.97, 'Tuesday', 0)\n(48, '2024-07-24', 'Widget', 'Widget-C', 5, 9.99, 49.95, 'Wednesday', 0)\n(49, '2024-07-25', 'Doodad', 'Doodad-3', 4, 4.99, 19.96, 'Thursday', 0)\n(50, '2024-07-25', 'Gadget', 'Gadget-Y', 8, 19.99, 159.92, 'Thursday', 0)\n"
     ]
    }
   ],
   "source": [
    "cursor.execute(\"SELECT * FROM aggregated_table;\")\n",
    "rows = cursor.fetchall()\n",
    "\n",
    "print(\"TABLA aggregated_table:\")\n",
    "for row in rows:\n",
    "    print(row)\n"
   ]
  },
  {
   "cell_type": "code",
   "execution_count": 0,
   "metadata": {
    "application/vnd.databricks.v1+cell": {
     "cellMetadata": {
      "byteLimit": 2048000,
      "rowLimit": 10000
     },
     "inputWidgets": {},
     "nuid": "0a914986-ffb5-4769-9b67-1ca73d0a6e76",
     "showTitle": false,
     "tableResultSettingsMap": {},
     "title": ""
    }
   },
   "outputs": [
    {
     "output_type": "stream",
     "name": "stdout",
     "output_type": "stream",
     "text": [
      "TABLA outliers_table:\n('Doodad', 12, '2024-07-06', 'Doodad-3', 1, 4.99, 2.5833333333333335, 1.0836246694508314, 1.5833333333333335, 2.1672493389016627, 0)\n('Doodad', 16, '2024-07-08', 'Doodad-1', 2, 4.99, 2.5833333333333335, 1.0836246694508314, 0.5833333333333335, 2.1672493389016627, 0)\n('Doodad', 19, '2024-07-10', 'Doodad-2', 4, 4.99, 2.5833333333333335, 1.0836246694508314, 1.4166666666666665, 2.1672493389016627, 0)\n('Doodad', 22, '2024-07-11', 'Doodad-3', 3, 4.99, 2.5833333333333335, 1.0836246694508314, 0.4166666666666665, 2.1672493389016627, 0)\n('Doodad', 25, '2024-07-13', 'Doodad-1', 2, 4.99, 2.5833333333333335, 1.0836246694508314, 0.5833333333333335, 2.1672493389016627, 0)\n('Doodad', 28, '2024-07-14', 'Doodad-2', 4, 4.99, 2.5833333333333335, 1.0836246694508314, 1.4166666666666665, 2.1672493389016627, 0)\n('Doodad', 31, '2024-07-16', 'Doodad-3', 1, 4.99, 2.5833333333333335, 1.0836246694508314, 1.5833333333333335, 2.1672493389016627, 0)\n('Doodad', 34, '2024-07-17', 'Doodad-1', 2, 4.99, 2.5833333333333335, 1.0836246694508314, 0.5833333333333335, 2.1672493389016627, 0)\n('Doodad', 37, '2024-07-19', 'Doodad-2', 3, 4.99, 2.5833333333333335, 1.0836246694508314, 0.4166666666666665, 2.1672493389016627, 0)\n('Doodad', 43, '2024-07-22', 'Doodad-1', 2, 4.99, 2.5833333333333335, 1.0836246694508314, 0.5833333333333335, 2.1672493389016627, 0)\n('Doodad', 46, '2024-07-23', 'Doodad-2', 3, 4.99, 2.5833333333333335, 1.0836246694508314, 0.4166666666666665, 2.1672493389016627, 0)\n('Doodad', 49, '2024-07-25', 'Doodad-3', 4, 4.99, 2.5833333333333335, 1.0836246694508314, 1.4166666666666665, 2.1672493389016627, 0)\n('Gadget', 2, '2024-07-01', 'Gadget-X', 5, 19.99, 5.857142857142857, 1.9944979263017493, 0.8571428571428568, 3.9889958526034985, 0)\n('Gadget', 6, '2024-07-03', 'Gadget-Y', 8, 19.99, 5.857142857142857, 1.9944979263017493, 2.1428571428571432, 3.9889958526034985, 0)\n('Gadget', 10, '2024-07-05', 'Gadget-X', 3, 19.99, 5.857142857142857, 1.9944979263017493, 2.8571428571428568, 3.9889958526034985, 0)\n('Gadget', 11, '2024-07-06', None, 5, 19.99, 5.857142857142857, 1.9944979263017493, 0.8571428571428568, 3.9889958526034985, 0)\n('Gadget', 14, '2024-07-07', 'Gadget-Y', 4, 19.99, 5.857142857142857, 1.9944979263017493, 1.8571428571428568, 3.9889958526034985, 0)\n('Gadget', 20, '2024-07-10', 'Gadget-Y', 7, 19.99, 5.857142857142857, 1.9944979263017493, 1.1428571428571432, 3.9889958526034985, 0)\n('Gadget', 23, '2024-07-12', 'Gadget-X', 9, 19.99, 5.857142857142857, 1.9944979263017493, 3.1428571428571432, 3.9889958526034985, 0)\n('Gadget', 26, '2024-07-13', 'Gadget-Y', 5, 19.99, 5.857142857142857, 1.9944979263017493, 0.8571428571428568, 3.9889958526034985, 0)\n('Gadget', 29, '2024-07-15', 'Gadget-X', 7, 19.99, 5.857142857142857, 1.9944979263017493, 1.1428571428571432, 3.9889958526034985, 0)\n('Gadget', 35, '2024-07-18', 'Gadget-X', 6, 19.99, 5.857142857142857, 1.9944979263017493, 0.14285714285714324, 3.9889958526034985, 0)\n('Gadget', 38, '2024-07-19', 'Gadget-Y', 2, 19.99, 5.857142857142857, 1.9944979263017493, 3.8571428571428568, 3.9889958526034985, 0)\n('Gadget', 41, '2024-07-21', 'Gadget-X', 7, 19.99, 5.857142857142857, 1.9944979263017493, 1.1428571428571432, 3.9889958526034985, 0)\n('Gadget', 44, '2024-07-22', 'Gadget-Y', 6, 19.99, 5.857142857142857, 1.9944979263017493, 0.14285714285714324, 3.9889958526034985, 0)\n('Gadget', 50, '2024-07-25', 'Gadget-Y', 8, 19.99, 5.857142857142857, 1.9944979263017493, 2.1428571428571432, 3.9889958526034985, 0)\n('Widget', 1, '2024-07-01', 'Widget-A', 10, 9.99, 5.0588235294117645, 2.435944073539408, 4.9411764705882355, 4.871888147078816, 1)\n('Widget', 3, '2024-07-02', 'Widget-B', 7, 9.99, 5.0588235294117645, 2.435944073539408, 1.9411764705882355, 4.871888147078816, 0)\n('Widget', 5, '2024-07-03', 'Widget-C', 3, 9.99, 5.0588235294117645, 2.435944073539408, 2.0588235294117645, 4.871888147078816, 0)\n('Widget', 7, '2024-07-04', 'Widget-A', 2, 9.99, 5.0588235294117645, 2.435944073539408, 3.0588235294117645, 4.871888147078816, 0)\n('Widget', 9, '2024-07-05', 'Widget-B', 6, 9.99, 5.0588235294117645, 2.435944073539408, 0.9411764705882355, 4.871888147078816, 0)\n('Widget', 13, '2024-07-07', 'Widget-C', 8, 9.99, 5.0588235294117645, 2.435944073539408, 2.9411764705882355, 4.871888147078816, 0)\n('Widget', 15, '2024-07-08', 'Widget-A', 3, 9.99, 5.0588235294117645, 2.435944073539408, 2.0588235294117645, 4.871888147078816, 0)\n('Widget', 18, '2024-07-09', 'Widget-B', 5, 9.99, 5.0588235294117645, 2.435944073539408, 0.0588235294117645, 4.871888147078816, 0)\n('Widget', 21, '2024-07-11', 'Widget-C', 6, 9.99, 5.0588235294117645, 2.435944073539408, 0.9411764705882355, 4.871888147078816, 0)\n('Widget', 24, '2024-07-12', 'Widget-A', 1, 9.99, 5.0588235294117645, 2.435944073539408, 4.0588235294117645, 4.871888147078816, 0)\n('Widget', 30, '2024-07-15', 'Widget-C', 3, 9.99, 5.0588235294117645, 2.435944073539408, 2.0588235294117645, 4.871888147078816, 0)\n('Widget', 33, '2024-07-17', 'Widget-A', 8, 9.99, 5.0588235294117645, 2.435944073539408, 2.9411764705882355, 4.871888147078816, 0)\n('Widget', 36, '2024-07-18', 'Widget-B', 4, 9.99, 5.0588235294117645, 2.435944073539408, 1.0588235294117645, 4.871888147078816, 0)\n('Widget', 39, '2024-07-20', 'Widget-C', 5, 9.99, 5.0588235294117645, 2.435944073539408, 0.0588235294117645, 4.871888147078816, 0)\n('Widget', 42, '2024-07-21', 'Widget-A', 3, 9.99, 5.0588235294117645, 2.435944073539408, 2.0588235294117645, 4.871888147078816, 0)\n('Widget', 45, '2024-07-23', 'Widget-B', 7, 9.99, 5.0588235294117645, 2.435944073539408, 1.9411764705882355, 4.871888147078816, 0)\n('Widget', 48, '2024-07-24', 'Widget-C', 5, 9.99, 5.0588235294117645, 2.435944073539408, 0.0588235294117645, 4.871888147078816, 0)\n"
     ]
    }
   ],
   "source": [
    "cursor.execute(\"SELECT * FROM outliers_table;\")\n",
    "rows = cursor.fetchall()\n",
    "\n",
    "print(\"TABLA outliers_table:\")\n",
    "for row in rows:\n",
    "    print(row)\n",
    "\n",
    "conn.close()"
   ]
  }
 ],
 "metadata": {
  "application/vnd.databricks.v1+notebook": {
   "computePreferences": null,
   "dashboards": [],
   "environmentMetadata": null,
   "language": "python",
   "notebookMetadata": {
    "mostRecentlyExecutedCommandWithImplicitDF": {
     "commandId": 3093764911916238,
     "dataframes": [
      "_sqldf"
     ]
    },
    "pythonIndentUnit": 4
   },
   "notebookName": "2025-03-11 - HomeAssignment",
   "widgets": {}
  },
  "language_info": {
   "name": "python"
  }
 },
 "nbformat": 4,
 "nbformat_minor": 0
}